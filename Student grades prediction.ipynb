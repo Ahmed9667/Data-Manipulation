{
 "cells": [
  {
   "cell_type": "code",
   "execution_count": 1,
   "id": "73b3b670",
   "metadata": {},
   "outputs": [],
   "source": [
    "import numpy as np\n",
    "import pandas as pd\n",
    "import matplotlib.pyplot as plt\n",
    "import seaborn as sns\n",
    "import warnings\n",
    "warnings.filterwarnings('ignore')\n",
    "%matplotlib inline"
   ]
  },
  {
   "cell_type": "code",
   "execution_count": 3,
   "id": "78c0216a",
   "metadata": {},
   "outputs": [
    {
     "data": {
      "text/html": [
       "<div>\n",
       "<style scoped>\n",
       "    .dataframe tbody tr th:only-of-type {\n",
       "        vertical-align: middle;\n",
       "    }\n",
       "\n",
       "    .dataframe tbody tr th {\n",
       "        vertical-align: top;\n",
       "    }\n",
       "\n",
       "    .dataframe thead th {\n",
       "        text-align: right;\n",
       "    }\n",
       "</style>\n",
       "<table border=\"1\" class=\"dataframe\">\n",
       "  <thead>\n",
       "    <tr style=\"text-align: right;\">\n",
       "      <th></th>\n",
       "      <th>Seat No.</th>\n",
       "      <th>PH-121</th>\n",
       "      <th>HS-101</th>\n",
       "      <th>CY-105</th>\n",
       "      <th>HS-105/12</th>\n",
       "      <th>MT-111</th>\n",
       "      <th>CS-105</th>\n",
       "      <th>CS-106</th>\n",
       "      <th>EL-102</th>\n",
       "      <th>EE-119</th>\n",
       "      <th>...</th>\n",
       "      <th>CS-312</th>\n",
       "      <th>CS-317</th>\n",
       "      <th>CS-403</th>\n",
       "      <th>CS-421</th>\n",
       "      <th>CS-406</th>\n",
       "      <th>CS-414</th>\n",
       "      <th>CS-419</th>\n",
       "      <th>CS-423</th>\n",
       "      <th>CS-412</th>\n",
       "      <th>CGPA</th>\n",
       "    </tr>\n",
       "  </thead>\n",
       "  <tbody>\n",
       "    <tr>\n",
       "      <th>0</th>\n",
       "      <td>CS-97001</td>\n",
       "      <td>B-</td>\n",
       "      <td>D+</td>\n",
       "      <td>C-</td>\n",
       "      <td>C</td>\n",
       "      <td>C-</td>\n",
       "      <td>D+</td>\n",
       "      <td>D</td>\n",
       "      <td>C-</td>\n",
       "      <td>B-</td>\n",
       "      <td>...</td>\n",
       "      <td>C-</td>\n",
       "      <td>C-</td>\n",
       "      <td>C-</td>\n",
       "      <td>C-</td>\n",
       "      <td>A-</td>\n",
       "      <td>A</td>\n",
       "      <td>C-</td>\n",
       "      <td>B</td>\n",
       "      <td>A-</td>\n",
       "      <td>2.205</td>\n",
       "    </tr>\n",
       "    <tr>\n",
       "      <th>1</th>\n",
       "      <td>CS-97002</td>\n",
       "      <td>A</td>\n",
       "      <td>D</td>\n",
       "      <td>D+</td>\n",
       "      <td>D</td>\n",
       "      <td>B-</td>\n",
       "      <td>C</td>\n",
       "      <td>D</td>\n",
       "      <td>A</td>\n",
       "      <td>D+</td>\n",
       "      <td>...</td>\n",
       "      <td>D+</td>\n",
       "      <td>D</td>\n",
       "      <td>C</td>\n",
       "      <td>D</td>\n",
       "      <td>A-</td>\n",
       "      <td>B-</td>\n",
       "      <td>C</td>\n",
       "      <td>C</td>\n",
       "      <td>B</td>\n",
       "      <td>2.008</td>\n",
       "    </tr>\n",
       "    <tr>\n",
       "      <th>2</th>\n",
       "      <td>CS-97003</td>\n",
       "      <td>A</td>\n",
       "      <td>B</td>\n",
       "      <td>A</td>\n",
       "      <td>B-</td>\n",
       "      <td>B+</td>\n",
       "      <td>A</td>\n",
       "      <td>B-</td>\n",
       "      <td>B+</td>\n",
       "      <td>A-</td>\n",
       "      <td>...</td>\n",
       "      <td>B</td>\n",
       "      <td>B</td>\n",
       "      <td>A</td>\n",
       "      <td>C</td>\n",
       "      <td>A</td>\n",
       "      <td>A</td>\n",
       "      <td>A</td>\n",
       "      <td>A-</td>\n",
       "      <td>A</td>\n",
       "      <td>3.608</td>\n",
       "    </tr>\n",
       "    <tr>\n",
       "      <th>3</th>\n",
       "      <td>CS-97004</td>\n",
       "      <td>D</td>\n",
       "      <td>C+</td>\n",
       "      <td>D+</td>\n",
       "      <td>D</td>\n",
       "      <td>D</td>\n",
       "      <td>A-</td>\n",
       "      <td>D+</td>\n",
       "      <td>C-</td>\n",
       "      <td>D</td>\n",
       "      <td>...</td>\n",
       "      <td>D+</td>\n",
       "      <td>C</td>\n",
       "      <td>D+</td>\n",
       "      <td>C-</td>\n",
       "      <td>B-</td>\n",
       "      <td>B</td>\n",
       "      <td>C+</td>\n",
       "      <td>C+</td>\n",
       "      <td>C+</td>\n",
       "      <td>1.906</td>\n",
       "    </tr>\n",
       "    <tr>\n",
       "      <th>4</th>\n",
       "      <td>CS-97005</td>\n",
       "      <td>A-</td>\n",
       "      <td>A-</td>\n",
       "      <td>A-</td>\n",
       "      <td>B+</td>\n",
       "      <td>A</td>\n",
       "      <td>A</td>\n",
       "      <td>A-</td>\n",
       "      <td>B+</td>\n",
       "      <td>A</td>\n",
       "      <td>...</td>\n",
       "      <td>B-</td>\n",
       "      <td>B+</td>\n",
       "      <td>B+</td>\n",
       "      <td>B-</td>\n",
       "      <td>A-</td>\n",
       "      <td>A</td>\n",
       "      <td>A-</td>\n",
       "      <td>A-</td>\n",
       "      <td>A</td>\n",
       "      <td>3.448</td>\n",
       "    </tr>\n",
       "    <tr>\n",
       "      <th>...</th>\n",
       "      <td>...</td>\n",
       "      <td>...</td>\n",
       "      <td>...</td>\n",
       "      <td>...</td>\n",
       "      <td>...</td>\n",
       "      <td>...</td>\n",
       "      <td>...</td>\n",
       "      <td>...</td>\n",
       "      <td>...</td>\n",
       "      <td>...</td>\n",
       "      <td>...</td>\n",
       "      <td>...</td>\n",
       "      <td>...</td>\n",
       "      <td>...</td>\n",
       "      <td>...</td>\n",
       "      <td>...</td>\n",
       "      <td>...</td>\n",
       "      <td>...</td>\n",
       "      <td>...</td>\n",
       "      <td>...</td>\n",
       "      <td>...</td>\n",
       "    </tr>\n",
       "    <tr>\n",
       "      <th>566</th>\n",
       "      <td>CS-97567</td>\n",
       "      <td>B</td>\n",
       "      <td>A</td>\n",
       "      <td>A</td>\n",
       "      <td>A-</td>\n",
       "      <td>A+</td>\n",
       "      <td>A</td>\n",
       "      <td>A-</td>\n",
       "      <td>A-</td>\n",
       "      <td>A+</td>\n",
       "      <td>...</td>\n",
       "      <td>A-</td>\n",
       "      <td>A-</td>\n",
       "      <td>A</td>\n",
       "      <td>A</td>\n",
       "      <td>A</td>\n",
       "      <td>B+</td>\n",
       "      <td>B+</td>\n",
       "      <td>B</td>\n",
       "      <td>A</td>\n",
       "      <td>3.798</td>\n",
       "    </tr>\n",
       "    <tr>\n",
       "      <th>567</th>\n",
       "      <td>CS-97568</td>\n",
       "      <td>A+</td>\n",
       "      <td>A</td>\n",
       "      <td>A</td>\n",
       "      <td>A</td>\n",
       "      <td>A</td>\n",
       "      <td>A</td>\n",
       "      <td>A</td>\n",
       "      <td>A-</td>\n",
       "      <td>A</td>\n",
       "      <td>...</td>\n",
       "      <td>B+</td>\n",
       "      <td>B+</td>\n",
       "      <td>A</td>\n",
       "      <td>A</td>\n",
       "      <td>A-</td>\n",
       "      <td>B</td>\n",
       "      <td>A-</td>\n",
       "      <td>C</td>\n",
       "      <td>A-</td>\n",
       "      <td>3.772</td>\n",
       "    </tr>\n",
       "    <tr>\n",
       "      <th>568</th>\n",
       "      <td>CS-97569</td>\n",
       "      <td>B</td>\n",
       "      <td>A</td>\n",
       "      <td>A-</td>\n",
       "      <td>B+</td>\n",
       "      <td>A</td>\n",
       "      <td>A</td>\n",
       "      <td>A</td>\n",
       "      <td>A</td>\n",
       "      <td>A</td>\n",
       "      <td>...</td>\n",
       "      <td>A-</td>\n",
       "      <td>B</td>\n",
       "      <td>A</td>\n",
       "      <td>B+</td>\n",
       "      <td>A</td>\n",
       "      <td>C</td>\n",
       "      <td>B+</td>\n",
       "      <td>A-</td>\n",
       "      <td>A-</td>\n",
       "      <td>3.470</td>\n",
       "    </tr>\n",
       "    <tr>\n",
       "      <th>569</th>\n",
       "      <td>CS-97570</td>\n",
       "      <td>A</td>\n",
       "      <td>B+</td>\n",
       "      <td>D</td>\n",
       "      <td>A</td>\n",
       "      <td>D</td>\n",
       "      <td>D+</td>\n",
       "      <td>B-</td>\n",
       "      <td>C-</td>\n",
       "      <td>B-</td>\n",
       "      <td>...</td>\n",
       "      <td>D</td>\n",
       "      <td>B</td>\n",
       "      <td>B</td>\n",
       "      <td>C-</td>\n",
       "      <td>D</td>\n",
       "      <td>C</td>\n",
       "      <td>B</td>\n",
       "      <td>B-</td>\n",
       "      <td>C</td>\n",
       "      <td>2.193</td>\n",
       "    </tr>\n",
       "    <tr>\n",
       "      <th>570</th>\n",
       "      <td>CS-97571</td>\n",
       "      <td>C</td>\n",
       "      <td>D</td>\n",
       "      <td>D</td>\n",
       "      <td>C</td>\n",
       "      <td>C</td>\n",
       "      <td>D+</td>\n",
       "      <td>B</td>\n",
       "      <td>C+</td>\n",
       "      <td>C</td>\n",
       "      <td>...</td>\n",
       "      <td>C+</td>\n",
       "      <td>C</td>\n",
       "      <td>B-</td>\n",
       "      <td>D</td>\n",
       "      <td>F</td>\n",
       "      <td>C-</td>\n",
       "      <td>B+</td>\n",
       "      <td>D</td>\n",
       "      <td>C-</td>\n",
       "      <td>1.753</td>\n",
       "    </tr>\n",
       "  </tbody>\n",
       "</table>\n",
       "<p>571 rows × 43 columns</p>\n",
       "</div>"
      ],
      "text/plain": [
       "     Seat No. PH-121 HS-101 CY-105 HS-105/12 MT-111 CS-105 CS-106 EL-102  \\\n",
       "0    CS-97001     B-     D+     C-         C     C-     D+      D     C-   \n",
       "1    CS-97002      A      D     D+         D     B-      C      D      A   \n",
       "2    CS-97003      A      B      A        B-     B+      A     B-     B+   \n",
       "3    CS-97004      D     C+     D+         D      D     A-     D+     C-   \n",
       "4    CS-97005     A-     A-     A-        B+      A      A     A-     B+   \n",
       "..        ...    ...    ...    ...       ...    ...    ...    ...    ...   \n",
       "566  CS-97567      B      A      A        A-     A+      A     A-     A-   \n",
       "567  CS-97568     A+      A      A         A      A      A      A     A-   \n",
       "568  CS-97569      B      A     A-        B+      A      A      A      A   \n",
       "569  CS-97570      A     B+      D         A      D     D+     B-     C-   \n",
       "570  CS-97571      C      D      D         C      C     D+      B     C+   \n",
       "\n",
       "    EE-119  ... CS-312 CS-317 CS-403 CS-421 CS-406 CS-414 CS-419 CS-423  \\\n",
       "0       B-  ...     C-     C-     C-     C-     A-      A     C-      B   \n",
       "1       D+  ...     D+      D      C      D     A-     B-      C      C   \n",
       "2       A-  ...      B      B      A      C      A      A      A     A-   \n",
       "3        D  ...     D+      C     D+     C-     B-      B     C+     C+   \n",
       "4        A  ...     B-     B+     B+     B-     A-      A     A-     A-   \n",
       "..     ...  ...    ...    ...    ...    ...    ...    ...    ...    ...   \n",
       "566     A+  ...     A-     A-      A      A      A     B+     B+      B   \n",
       "567      A  ...     B+     B+      A      A     A-      B     A-      C   \n",
       "568      A  ...     A-      B      A     B+      A      C     B+     A-   \n",
       "569     B-  ...      D      B      B     C-      D      C      B     B-   \n",
       "570      C  ...     C+      C     B-      D      F     C-     B+      D   \n",
       "\n",
       "    CS-412   CGPA  \n",
       "0       A-  2.205  \n",
       "1        B  2.008  \n",
       "2        A  3.608  \n",
       "3       C+  1.906  \n",
       "4        A  3.448  \n",
       "..     ...    ...  \n",
       "566      A  3.798  \n",
       "567     A-  3.772  \n",
       "568     A-  3.470  \n",
       "569      C  2.193  \n",
       "570     C-  1.753  \n",
       "\n",
       "[571 rows x 43 columns]"
      ]
     },
     "execution_count": 3,
     "metadata": {},
     "output_type": "execute_result"
    }
   ],
   "source": [
    "df = pd.read_csv('https://raw.githubusercontent.com/dsrscientist/dataset4/main/Grades.csv')\n",
    "df"
   ]
  },
  {
   "cell_type": "markdown",
   "id": "9b014a29",
   "metadata": {},
   "source": [
    "# check missing values"
   ]
  },
  {
   "cell_type": "code",
   "execution_count": 4,
   "id": "17014c8f",
   "metadata": {},
   "outputs": [
    {
     "data": {
      "text/plain": [
       "Seat No.      0\n",
       "PH-121        0\n",
       "HS-101        0\n",
       "CY-105        1\n",
       "HS-105/12     1\n",
       "MT-111        2\n",
       "CS-105        0\n",
       "CS-106        2\n",
       "EL-102        2\n",
       "EE-119        2\n",
       "ME-107        2\n",
       "CS-107        2\n",
       "HS-205/20     5\n",
       "MT-222        5\n",
       "EE-222        7\n",
       "MT-224        7\n",
       "CS-210        7\n",
       "CS-211        5\n",
       "CS-203        5\n",
       "CS-214        6\n",
       "EE-217        6\n",
       "CS-212        6\n",
       "CS-215        6\n",
       "MT-331        9\n",
       "EF-303       10\n",
       "HS-304       10\n",
       "CS-301       10\n",
       "CS-302       10\n",
       "TC-383       10\n",
       "MT-442       10\n",
       "EL-332        9\n",
       "CS-318        9\n",
       "CS-306        9\n",
       "CS-312       10\n",
       "CS-317       12\n",
       "CS-403       12\n",
       "CS-421       12\n",
       "CS-406       85\n",
       "CS-414       13\n",
       "CS-419       13\n",
       "CS-423       14\n",
       "CS-412       79\n",
       "CGPA          0\n",
       "dtype: int64"
      ]
     },
     "execution_count": 4,
     "metadata": {},
     "output_type": "execute_result"
    }
   ],
   "source": [
    "df.isnull().sum()"
   ]
  },
  {
   "cell_type": "code",
   "execution_count": 9,
   "id": "91b5c06f",
   "metadata": {},
   "outputs": [],
   "source": [
    "#fill null values\n",
    "\n",
    "for i in df.columns:\n",
    "    if df[i].isnull().sum() > 0:\n",
    "        df[i] = df[i].fillna(df[i].mode()[0])"
   ]
  },
  {
   "cell_type": "code",
   "execution_count": 10,
   "id": "1a34d792",
   "metadata": {},
   "outputs": [
    {
     "data": {
      "text/plain": [
       "Seat No.     0\n",
       "PH-121       0\n",
       "HS-101       0\n",
       "CY-105       0\n",
       "HS-105/12    0\n",
       "MT-111       0\n",
       "CS-105       0\n",
       "CS-106       0\n",
       "EL-102       0\n",
       "EE-119       0\n",
       "ME-107       0\n",
       "CS-107       0\n",
       "HS-205/20    0\n",
       "MT-222       0\n",
       "EE-222       0\n",
       "MT-224       0\n",
       "CS-210       0\n",
       "CS-211       0\n",
       "CS-203       0\n",
       "CS-214       0\n",
       "EE-217       0\n",
       "CS-212       0\n",
       "CS-215       0\n",
       "MT-331       0\n",
       "EF-303       0\n",
       "HS-304       0\n",
       "CS-301       0\n",
       "CS-302       0\n",
       "TC-383       0\n",
       "MT-442       0\n",
       "EL-332       0\n",
       "CS-318       0\n",
       "CS-306       0\n",
       "CS-312       0\n",
       "CS-317       0\n",
       "CS-403       0\n",
       "CS-421       0\n",
       "CS-406       0\n",
       "CS-414       0\n",
       "CS-419       0\n",
       "CS-423       0\n",
       "CS-412       0\n",
       "CGPA         0\n",
       "dtype: int64"
      ]
     },
     "execution_count": 10,
     "metadata": {},
     "output_type": "execute_result"
    }
   ],
   "source": [
    "#check null values\n",
    "df.isnull().sum()"
   ]
  },
  {
   "cell_type": "markdown",
   "id": "1c9c3bfe",
   "metadata": {},
   "source": [
    "We removed all null values"
   ]
  },
  {
   "cell_type": "code",
   "execution_count": 12,
   "id": "922fa891",
   "metadata": {},
   "outputs": [
    {
     "name": "stdout",
     "output_type": "stream",
     "text": [
      "<class 'pandas.core.frame.DataFrame'>\n",
      "RangeIndex: 571 entries, 0 to 570\n",
      "Data columns (total 43 columns):\n",
      " #   Column     Non-Null Count  Dtype  \n",
      "---  ------     --------------  -----  \n",
      " 0   Seat No.   571 non-null    object \n",
      " 1   PH-121     571 non-null    object \n",
      " 2   HS-101     571 non-null    object \n",
      " 3   CY-105     571 non-null    object \n",
      " 4   HS-105/12  571 non-null    object \n",
      " 5   MT-111     571 non-null    object \n",
      " 6   CS-105     571 non-null    object \n",
      " 7   CS-106     571 non-null    object \n",
      " 8   EL-102     571 non-null    object \n",
      " 9   EE-119     571 non-null    object \n",
      " 10  ME-107     571 non-null    object \n",
      " 11  CS-107     571 non-null    object \n",
      " 12  HS-205/20  571 non-null    object \n",
      " 13  MT-222     571 non-null    object \n",
      " 14  EE-222     571 non-null    object \n",
      " 15  MT-224     571 non-null    object \n",
      " 16  CS-210     571 non-null    object \n",
      " 17  CS-211     571 non-null    object \n",
      " 18  CS-203     571 non-null    object \n",
      " 19  CS-214     571 non-null    object \n",
      " 20  EE-217     571 non-null    object \n",
      " 21  CS-212     571 non-null    object \n",
      " 22  CS-215     571 non-null    object \n",
      " 23  MT-331     571 non-null    object \n",
      " 24  EF-303     571 non-null    object \n",
      " 25  HS-304     571 non-null    object \n",
      " 26  CS-301     571 non-null    object \n",
      " 27  CS-302     571 non-null    object \n",
      " 28  TC-383     571 non-null    object \n",
      " 29  MT-442     571 non-null    object \n",
      " 30  EL-332     571 non-null    object \n",
      " 31  CS-318     571 non-null    object \n",
      " 32  CS-306     571 non-null    object \n",
      " 33  CS-312     571 non-null    object \n",
      " 34  CS-317     571 non-null    object \n",
      " 35  CS-403     571 non-null    object \n",
      " 36  CS-421     571 non-null    object \n",
      " 37  CS-406     571 non-null    object \n",
      " 38  CS-414     571 non-null    object \n",
      " 39  CS-419     571 non-null    object \n",
      " 40  CS-423     571 non-null    object \n",
      " 41  CS-412     571 non-null    object \n",
      " 42  CGPA       571 non-null    float64\n",
      "dtypes: float64(1), object(42)\n",
      "memory usage: 191.9+ KB\n"
     ]
    }
   ],
   "source": [
    "df.info()"
   ]
  },
  {
   "cell_type": "markdown",
   "id": "75f6dbd7",
   "metadata": {},
   "source": [
    "All columns contain categorical data except CGPA contains continuous numerical data"
   ]
  },
  {
   "cell_type": "code",
   "execution_count": 13,
   "id": "6f7479e8",
   "metadata": {},
   "outputs": [
    {
     "data": {
      "text/html": [
       "<div>\n",
       "<style scoped>\n",
       "    .dataframe tbody tr th:only-of-type {\n",
       "        vertical-align: middle;\n",
       "    }\n",
       "\n",
       "    .dataframe tbody tr th {\n",
       "        vertical-align: top;\n",
       "    }\n",
       "\n",
       "    .dataframe thead th {\n",
       "        text-align: right;\n",
       "    }\n",
       "</style>\n",
       "<table border=\"1\" class=\"dataframe\">\n",
       "  <thead>\n",
       "    <tr style=\"text-align: right;\">\n",
       "      <th></th>\n",
       "      <th>CGPA</th>\n",
       "    </tr>\n",
       "  </thead>\n",
       "  <tbody>\n",
       "    <tr>\n",
       "      <th>count</th>\n",
       "      <td>571.000000</td>\n",
       "    </tr>\n",
       "    <tr>\n",
       "      <th>mean</th>\n",
       "      <td>2.954888</td>\n",
       "    </tr>\n",
       "    <tr>\n",
       "      <th>std</th>\n",
       "      <td>0.620552</td>\n",
       "    </tr>\n",
       "    <tr>\n",
       "      <th>min</th>\n",
       "      <td>0.800000</td>\n",
       "    </tr>\n",
       "    <tr>\n",
       "      <th>25%</th>\n",
       "      <td>2.538000</td>\n",
       "    </tr>\n",
       "    <tr>\n",
       "      <th>50%</th>\n",
       "      <td>3.029000</td>\n",
       "    </tr>\n",
       "    <tr>\n",
       "      <th>75%</th>\n",
       "      <td>3.451000</td>\n",
       "    </tr>\n",
       "    <tr>\n",
       "      <th>max</th>\n",
       "      <td>3.985000</td>\n",
       "    </tr>\n",
       "  </tbody>\n",
       "</table>\n",
       "</div>"
      ],
      "text/plain": [
       "             CGPA\n",
       "count  571.000000\n",
       "mean     2.954888\n",
       "std      0.620552\n",
       "min      0.800000\n",
       "25%      2.538000\n",
       "50%      3.029000\n",
       "75%      3.451000\n",
       "max      3.985000"
      ]
     },
     "execution_count": 13,
     "metadata": {},
     "output_type": "execute_result"
    }
   ],
   "source": [
    "df.describe()"
   ]
  },
  {
   "cell_type": "code",
   "execution_count": 17,
   "id": "d179b2d1",
   "metadata": {},
   "outputs": [
    {
     "data": {
      "text/plain": [
       "3.019    5\n",
       "3.058    3\n",
       "2.793    3\n",
       "3.443    3\n",
       "2.206    3\n",
       "        ..\n",
       "2.555    1\n",
       "2.042    1\n",
       "2.634    1\n",
       "2.053    1\n",
       "1.753    1\n",
       "Name: CGPA, Length: 491, dtype: int64"
      ]
     },
     "execution_count": 17,
     "metadata": {},
     "output_type": "execute_result"
    }
   ],
   "source": [
    "df['CGPA'].value_counts()"
   ]
  },
  {
   "cell_type": "markdown",
   "id": "cbb732fe",
   "metadata": {},
   "source": [
    "# Data Visualization"
   ]
  },
  {
   "cell_type": "code",
   "execution_count": 22,
   "id": "71ce5828",
   "metadata": {},
   "outputs": [],
   "source": [
    "group = ['PH-121', 'HS-101', 'CY-105', 'HS-105/12', 'MT-111',\n",
    "       'CS-105', 'CS-106', 'EL-102', 'EE-119', 'ME-107', 'CS-107', 'HS-205/20',\n",
    "       'MT-222', 'EE-222', 'MT-224', 'CS-210', 'CS-211', 'CS-203', 'CS-214',\n",
    "       'EE-217', 'CS-212', 'CS-215', 'MT-331', 'EF-303', 'HS-304', 'CS-301',\n",
    "       'CS-302', 'TC-383', 'MT-442', 'EL-332', 'CS-318', 'CS-306', 'CS-312',\n",
    "       'CS-317', 'CS-403', 'CS-421', 'CS-406', 'CS-414', 'CS-419', 'CS-423',\n",
    "       'CS-412']"
   ]
  },
  {
   "cell_type": "code",
   "execution_count": 23,
   "id": "a2f4ecc8",
   "metadata": {},
   "outputs": [
    {
     "name": "stdout",
     "output_type": "stream",
     "text": [
      "A-    112\n",
      "A     111\n",
      "B+     61\n",
      "B      57\n",
      "B-     56\n",
      "D      44\n",
      "C      33\n",
      "C+     31\n",
      "D+     22\n",
      "A+     22\n",
      "C-     19\n",
      "WU      2\n",
      "F       1\n",
      "Name: PH-121, dtype: int64\n"
     ]
    },
    {
     "data": {
      "image/png": "[encoded data removed]",
      "text/plain": [
       "<Figure size 640x480 with 1 Axes>"
      ]
     },
     "metadata": {},
     "output_type": "display_data"
    },
    {
     "name": "stdout",
     "output_type": "stream",
     "text": [
      "A-    82\n",
      "B-    78\n",
      "C     68\n",
      "B     63\n",
      "B+    59\n",
      "C-    50\n",
      "C+    47\n",
      "D     45\n",
      "A     38\n",
      "D+    36\n",
      "A+     4\n",
      "F      1\n",
      "Name: HS-101, dtype: int64\n"
     ]
    },
    {
     "data": {
      "image/png": "[encoded data removed]",
      "text/plain": [
       "<Figure size 640x480 with 1 Axes>"
      ]
     },
     "metadata": {},
     "output_type": "display_data"
    },
    {
     "name": "stdout",
     "output_type": "stream",
     "text": [
      "A     178\n",
      "A-    120\n",
      "B+     50\n",
      "B      49\n",
      "B-     42\n",
      "D      31\n",
      "A+     31\n",
      "C      19\n",
      "C+     17\n",
      "C-     16\n",
      "D+     14\n",
      "WU      3\n",
      "F       1\n",
      "Name: CY-105, dtype: int64\n"
     ]
    },
    {
     "data": {
      "image/png": "[encoded data removed]",
      "text/plain": [
       "<Figure size 640x480 with 1 Axes>"
      ]
     },
     "metadata": {},
     "output_type": "display_data"
    },
    {
     "name": "stdout",
     "output_type": "stream",
     "text": [
      "A     97\n",
      "A-    75\n",
      "B+    70\n",
      "B     57\n",
      "D     45\n",
      "C     41\n",
      "B-    40\n",
      "C+    39\n",
      "C-    36\n",
      "D+    34\n",
      "A+    34\n",
      "WU     2\n",
      "F      1\n",
      "Name: HS-105/12, dtype: int64\n"
     ]
    },
    {
     "data": {
      "image/png": "[encoded data removed]",
      "text/plain": [
       "<Figure size 640x480 with 1 Axes>"
      ]
     },
     "metadata": {},
     "output_type": "display_data"
    },
    {
     "name": "stdout",
     "output_type": "stream",
     "text": [
      "A-    107\n",
      "A     100\n",
      "B-     70\n",
      "B+     62\n",
      "B      55\n",
      "C-     39\n",
      "C+     33\n",
      "C      30\n",
      "D      26\n",
      "A+     23\n",
      "D+     21\n",
      "WU      3\n",
      "F       2\n",
      "Name: MT-111, dtype: int64\n"
     ]
    },
    {
     "data": {
      "image/png": "[encoded data removed]",
      "text/plain": [
       "<Figure size 640x480 with 1 Axes>"
      ]
     },
     "metadata": {},
     "output_type": "display_data"
    },
    {
     "name": "stdout",
     "output_type": "stream",
     "text": [
      "A     151\n",
      "A-    134\n",
      "B+     60\n",
      "B      51\n",
      "A+     43\n",
      "B-     38\n",
      "C+     23\n",
      "C      22\n",
      "C-     22\n",
      "D+     15\n",
      "D      12\n",
      "Name: CS-105, dtype: int64\n"
     ]
    },
    {
     "data": {
      "image/png": "[encoded data removed]",
      "text/plain": [
       "<Figure size 640x480 with 1 Axes>"
      ]
     },
     "metadata": {},
     "output_type": "display_data"
    },
    {
     "name": "stdout",
     "output_type": "stream",
     "text": [
      "A-    118\n",
      "B+    101\n",
      "B      96\n",
      "A      56\n",
      "B-     54\n",
      "C+     41\n",
      "D+     29\n",
      "C-     27\n",
      "D      24\n",
      "C      18\n",
      "A+      4\n",
      "WU      2\n",
      "F       1\n",
      "Name: CS-106, dtype: int64\n"
     ]
    },
    {
     "data": {
      "image/png": "[encoded data removed]",
      "text/plain": [
       "<Figure size 640x480 with 1 Axes>"
      ]
     },
     "metadata": {},
     "output_type": "display_data"
    },
    {
     "name": "stdout",
     "output_type": "stream",
     "text": [
      "A-    107\n",
      "A      92\n",
      "B+     69\n",
      "B      59\n",
      "B-     53\n",
      "D      38\n",
      "C+     35\n",
      "C-     32\n",
      "C      30\n",
      "A+     29\n",
      "D+     23\n",
      "WU      3\n",
      "F       1\n",
      "Name: EL-102, dtype: int64\n"
     ]
    },
    {
     "data": {
      "image/png": "[encoded data removed]",
      "text/plain": [
       "<Figure size 640x480 with 1 Axes>"
      ]
     },
     "metadata": {},
     "output_type": "display_data"
    },
    {
     "name": "stdout",
     "output_type": "stream",
     "text": [
      "A-    139\n",
      "B+     83\n",
      "B      77\n",
      "A      68\n",
      "B-     48\n",
      "C      48\n",
      "C+     38\n",
      "D+     26\n",
      "C-     26\n",
      "D      11\n",
      "A+      6\n",
      "WU      1\n",
      "Name: EE-119, dtype: int64\n"
     ]
    },
    {
     "data": {
      "image/png": "[encoded data removed]",
      "text/plain": [
       "<Figure size 640x480 with 1 Axes>"
      ]
     },
     "metadata": {},
     "output_type": "display_data"
    },
    {
     "name": "stdout",
     "output_type": "stream",
     "text": [
      "A-    81\n",
      "A     77\n",
      "B+    68\n",
      "D     56\n",
      "B-    56\n",
      "B     50\n",
      "C     49\n",
      "C-    48\n",
      "C+    37\n",
      "D+    37\n",
      "A+     8\n",
      "WU     2\n",
      "F      2\n",
      "Name: ME-107, dtype: int64\n"
     ]
    },
    {
     "data": {
      "image/png": "[encoded data removed]",
      "text/plain": [
       "<Figure size 640x480 with 1 Axes>"
      ]
     },
     "metadata": {},
     "output_type": "display_data"
    },
    {
     "name": "stdout",
     "output_type": "stream",
     "text": [
      "A     107\n",
      "A-     81\n",
      "B+     57\n",
      "B      55\n",
      "C-     49\n",
      "B-     43\n",
      "A+     42\n",
      "D      38\n",
      "C+     34\n",
      "D+     31\n",
      "C      30\n",
      "WU      2\n",
      "I       1\n",
      "F       1\n",
      "Name: CS-107, dtype: int64\n"
     ]
    },
    {
     "data": {
      "image/png": "[encoded data removed]",
      "text/plain": [
       "<Figure size 640x480 with 1 Axes>"
      ]
     },
     "metadata": {},
     "output_type": "display_data"
    },
    {
     "name": "stdout",
     "output_type": "stream",
     "text": [
      "A-    155\n",
      "A     118\n",
      "B      97\n",
      "B+     89\n",
      "B-     36\n",
      "C+     33\n",
      "C      15\n",
      "C-     11\n",
      "D+      9\n",
      "D       3\n",
      "A+      2\n",
      "F       2\n",
      "WU      1\n",
      "Name: HS-205/20, dtype: int64\n"
     ]
    },
    {
     "data": {
      "image/png": "[encoded data removed]",
      "text/plain": [
       "<Figure size 640x480 with 1 Axes>"
      ]
     },
     "metadata": {},
     "output_type": "display_data"
    },
    {
     "name": "stdout",
     "output_type": "stream",
     "text": [
      "A-    91\n",
      "A     80\n",
      "D     66\n",
      "B     61\n",
      "B-    52\n",
      "D+    46\n",
      "C     43\n",
      "B+    42\n",
      "C+    39\n",
      "C-    30\n",
      "A+    16\n",
      "F      3\n",
      "WU     1\n",
      "W      1\n",
      "Name: MT-222, dtype: int64\n"
     ]
    },
    {
     "data": {
      "image/png": "[encoded data removed]",
      "text/plain": [
       "<Figure size 640x480 with 1 Axes>"
      ]
     },
     "metadata": {},
     "output_type": "display_data"
    },
    {
     "name": "stdout",
     "output_type": "stream",
     "text": [
      "A     129\n",
      "A-    121\n",
      "B+     65\n",
      "B      53\n",
      "C      39\n",
      "B-     35\n",
      "A+     32\n",
      "C+     29\n",
      "D      25\n",
      "D+     21\n",
      "C-     16\n",
      "F       4\n",
      "W       2\n",
      "Name: EE-222, dtype: int64\n"
     ]
    },
    {
     "data": {
      "image/png": "[encoded data removed]",
      "text/plain": [
       "<Figure size 640x480 with 1 Axes>"
      ]
     },
     "metadata": {},
     "output_type": "display_data"
    },
    {
     "name": "stdout",
     "output_type": "stream",
     "text": [
      "A-    127\n",
      "A      80\n",
      "B+     65\n",
      "B      57\n",
      "B-     49\n",
      "C-     43\n",
      "C+     39\n",
      "D+     37\n",
      "D      31\n",
      "C      30\n",
      "A+     10\n",
      "WU      1\n",
      "W       1\n",
      "F       1\n",
      "Name: MT-224, dtype: int64\n"
     ]
    },
    {
     "data": {
      "image/png": "[encoded data removed]",
      "text/plain": [
       "<Figure size 640x480 with 1 Axes>"
      ]
     },
     "metadata": {},
     "output_type": "display_data"
    },
    {
     "name": "stdout",
     "output_type": "stream",
     "text": [
      "A-    140\n",
      "A     101\n",
      "B+     84\n",
      "B      59\n",
      "B-     58\n",
      "C      30\n",
      "C+     27\n",
      "C-     24\n",
      "D+     21\n",
      "D      12\n",
      "A+     12\n",
      "WU      1\n",
      "W       1\n",
      "F       1\n",
      "Name: CS-210, dtype: int64\n"
     ]
    },
    {
     "data": {
      "image/png": "[encoded data removed]",
      "text/plain": [
       "<Figure size 640x480 with 1 Axes>"
      ]
     },
     "metadata": {},
     "output_type": "display_data"
    },
    {
     "name": "stdout",
     "output_type": "stream",
     "text": [
      "A-    73\n",
      "A     67\n",
      "B-    60\n",
      "D+    56\n",
      "B+    56\n",
      "B     56\n",
      "C+    55\n",
      "C-    50\n",
      "C     39\n",
      "D     33\n",
      "A+    21\n",
      "F      3\n",
      "WU     1\n",
      "W      1\n",
      "Name: CS-211, dtype: int64\n"
     ]
    },
    {
     "data": {
      "image/png": "[encoded data removed]",
      "text/plain": [
       "<Figure size 640x480 with 1 Axes>"
      ]
     },
     "metadata": {},
     "output_type": "display_data"
    },
    {
     "name": "stdout",
     "output_type": "stream",
     "text": [
      "A-    93\n",
      "A     81\n",
      "B     66\n",
      "C+    62\n",
      "B+    59\n",
      "B-    53\n",
      "D+    39\n",
      "C     35\n",
      "C-    35\n",
      "D     30\n",
      "A+    15\n",
      "F      2\n",
      "I      1\n",
      "Name: CS-203, dtype: int64\n"
     ]
    },
    {
     "data": {
      "image/png": "[encoded data removed]",
      "text/plain": [
       "<Figure size 640x480 with 1 Axes>"
      ]
     },
     "metadata": {},
     "output_type": "display_data"
    },
    {
     "name": "stdout",
     "output_type": "stream",
     "text": [
      "C     82\n",
      "A-    73\n",
      "B     63\n",
      "C-    57\n",
      "B-    56\n",
      "A     56\n",
      "D+    47\n",
      "C+    46\n",
      "B+    45\n",
      "D     31\n",
      "A+    12\n",
      "F      2\n",
      "I      1\n",
      "Name: CS-214, dtype: int64\n"
     ]
    },
    {
     "data": {
      "image/png": "[encoded data removed]",
      "text/plain": [
       "<Figure size 640x480 with 1 Axes>"
      ]
     },
     "metadata": {},
     "output_type": "display_data"
    },
    {
     "name": "stdout",
     "output_type": "stream",
     "text": [
      "A-    143\n",
      "A      97\n",
      "B+     70\n",
      "B      63\n",
      "B-     57\n",
      "C      36\n",
      "C+     29\n",
      "A+     22\n",
      "C-     20\n",
      "D+     19\n",
      "D      12\n",
      "F       2\n",
      "WU      1\n",
      "Name: EE-217, dtype: int64\n"
     ]
    },
    {
     "data": {
      "image/png": "[encoded data removed]",
      "text/plain": [
       "<Figure size 640x480 with 1 Axes>"
      ]
     },
     "metadata": {},
     "output_type": "display_data"
    },
    {
     "name": "stdout",
     "output_type": "stream",
     "text": [
      "A-    107\n",
      "B+     86\n",
      "B      81\n",
      "B-     65\n",
      "C      44\n",
      "A      43\n",
      "D+     36\n",
      "C+     35\n",
      "C-     35\n",
      "D      33\n",
      "A+      4\n",
      "WU      2\n",
      "Name: CS-212, dtype: int64\n"
     ]
    },
    {
     "data": {
      "image/png": "[encoded data removed]",
      "text/plain": [
       "<Figure size 640x480 with 1 Axes>"
      ]
     },
     "metadata": {},
     "output_type": "display_data"
    },
    {
     "name": "stdout",
     "output_type": "stream",
     "text": [
      "A-    85\n",
      "A     68\n",
      "B     64\n",
      "B-    59\n",
      "C+    50\n",
      "B+    50\n",
      "C     48\n",
      "C-    47\n",
      "D     42\n",
      "D+    38\n",
      "A+    17\n",
      "WU     1\n",
      "W      1\n",
      "F      1\n",
      "Name: CS-215, dtype: int64\n"
     ]
    },
    {
     "data": {
      "image/png": "[encoded data removed]",
      "text/plain": [
       "<Figure size 640x480 with 1 Axes>"
      ]
     },
     "metadata": {},
     "output_type": "display_data"
    },
    {
     "name": "stdout",
     "output_type": "stream",
     "text": [
      "A     127\n",
      "A-    103\n",
      "B+     64\n",
      "B      57\n",
      "B-     46\n",
      "C-     32\n",
      "D+     31\n",
      "A+     30\n",
      "C      28\n",
      "C+     27\n",
      "D      22\n",
      "F       4\n",
      "Name: MT-331, dtype: int64\n"
     ]
    },
    {
     "data": {
      "image/png": "[encoded data removed]",
      "text/plain": [
       "<Figure size 640x480 with 1 Axes>"
      ]
     },
     "metadata": {},
     "output_type": "display_data"
    },
    {
     "name": "stdout",
     "output_type": "stream",
     "text": [
      "B     122\n",
      "B-     92\n",
      "C      61\n",
      "B+     59\n",
      "C+     58\n",
      "C-     56\n",
      "D+     49\n",
      "A-     38\n",
      "D      19\n",
      "A      14\n",
      "F       2\n",
      "WU      1\n",
      "Name: EF-303, dtype: int64\n"
     ]
    },
    {
     "data": {
      "image/png": "[encoded data removed]",
      "text/plain": [
       "<Figure size 640x480 with 1 Axes>"
      ]
     },
     "metadata": {},
     "output_type": "display_data"
    },
    {
     "name": "stdout",
     "output_type": "stream",
     "text": [
      "A-    138\n",
      "B      72\n",
      "B-     70\n",
      "B+     66\n",
      "C      58\n",
      "C+     53\n",
      "C-     33\n",
      "A      28\n",
      "D      20\n",
      "D+     19\n",
      "F       6\n",
      "A+      4\n",
      "WU      2\n",
      "W       2\n",
      "Name: HS-304, dtype: int64\n"
     ]
    },
    {
     "data": {
      "image/png": "[encoded data removed]",
      "text/plain": [
       "<Figure size 640x480 with 1 Axes>"
      ]
     },
     "metadata": {},
     "output_type": "display_data"
    },
    {
     "name": "stdout",
     "output_type": "stream",
     "text": [
      "A-    118\n",
      "B+     74\n",
      "B      71\n",
      "A      66\n",
      "B-     60\n",
      "C      41\n",
      "C+     37\n",
      "C-     36\n",
      "D      29\n",
      "D+     29\n",
      "A+      9\n",
      "F       1\n",
      "Name: CS-301, dtype: int64\n"
     ]
    },
    {
     "data": {
      "image/png": "[encoded data removed]",
      "text/plain": [
       "<Figure size 640x480 with 1 Axes>"
      ]
     },
     "metadata": {},
     "output_type": "display_data"
    },
    {
     "name": "stdout",
     "output_type": "stream",
     "text": [
      "A-    123\n",
      "B     102\n",
      "A      86\n",
      "B+     81\n",
      "B-     60\n",
      "C+     32\n",
      "C      28\n",
      "D      21\n",
      "C-     19\n",
      "D+     10\n",
      "A+      9\n",
      "Name: CS-302, dtype: int64\n"
     ]
    },
    {
     "data": {
      "image/png": "[encoded data removed]",
      "text/plain": [
       "<Figure size 640x480 with 1 Axes>"
      ]
     },
     "metadata": {},
     "output_type": "display_data"
    },
    {
     "name": "stdout",
     "output_type": "stream",
     "text": [
      "A     115\n",
      "A-     73\n",
      "B+     68\n",
      "B      59\n",
      "C+     44\n",
      "D+     44\n",
      "C-     42\n",
      "C      42\n",
      "B-     40\n",
      "A+     23\n",
      "D      20\n",
      "F       1\n",
      "Name: TC-383, dtype: int64\n"
     ]
    },
    {
     "data": {
      "image/png": "[encoded data removed]",
      "text/plain": [
       "<Figure size 640x480 with 1 Axes>"
      ]
     },
     "metadata": {},
     "output_type": "display_data"
    },
    {
     "name": "stdout",
     "output_type": "stream",
     "text": [
      "A-    150\n",
      "A     130\n",
      "B+     65\n",
      "B      47\n",
      "A+     39\n",
      "B-     30\n",
      "C-     28\n",
      "C+     24\n",
      "C      24\n",
      "D      20\n",
      "D+     13\n",
      "F       1\n",
      "Name: MT-442, dtype: int64\n"
     ]
    },
    {
     "data": {
      "image/png": "[encoded data removed]",
      "text/plain": [
       "<Figure size 640x480 with 1 Axes>"
      ]
     },
     "metadata": {},
     "output_type": "display_data"
    },
    {
     "name": "stdout",
     "output_type": "stream",
     "text": [
      "A-    105\n",
      "A      76\n",
      "B+     68\n",
      "B      67\n",
      "B-     62\n",
      "C      49\n",
      "C+     38\n",
      "C-     32\n",
      "D+     22\n",
      "D      22\n",
      "A+     20\n",
      "F       9\n",
      "WU      1\n",
      "Name: EL-332, dtype: int64\n"
     ]
    },
    {
     "data": {
      "image/png": "[encoded data removed]",
      "text/plain": [
       "<Figure size 640x480 with 1 Axes>"
      ]
     },
     "metadata": {},
     "output_type": "display_data"
    },
    {
     "name": "stdout",
     "output_type": "stream",
     "text": [
      "A-    98\n",
      "B-    69\n",
      "B     68\n",
      "B+    65\n",
      "C     53\n",
      "C+    49\n",
      "A     42\n",
      "C-    40\n",
      "D     36\n",
      "D+    29\n",
      "F     10\n",
      "A+     6\n",
      "WU     5\n",
      "W      1\n",
      "Name: CS-318, dtype: int64\n"
     ]
    },
    {
     "data": {
      "image/png": "[encoded data removed]",
      "text/plain": [
       "<Figure size 640x480 with 1 Axes>"
      ]
     },
     "metadata": {},
     "output_type": "display_data"
    },
    {
     "name": "stdout",
     "output_type": "stream",
     "text": [
      "A-    129\n",
      "B+     75\n",
      "A      74\n",
      "B-     64\n",
      "B      53\n",
      "C-     40\n",
      "C      37\n",
      "C+     36\n",
      "D      31\n",
      "D+     18\n",
      "A+     10\n",
      "F       3\n",
      "WU      1\n",
      "Name: CS-306, dtype: int64\n"
     ]
    },
    {
     "data": {
      "image/png": "[encoded data removed]",
      "text/plain": [
       "<Figure size 640x480 with 1 Axes>"
      ]
     },
     "metadata": {},
     "output_type": "display_data"
    },
    {
     "name": "stdout",
     "output_type": "stream",
     "text": [
      "A+    103\n",
      "A      86\n",
      "A-     63\n",
      "D+     52\n",
      "C      48\n",
      "C-     44\n",
      "B+     42\n",
      "B      37\n",
      "C+     37\n",
      "B-     36\n",
      "D      19\n",
      "F       2\n",
      "W       1\n",
      "WU      1\n",
      "Name: CS-312, dtype: int64\n"
     ]
    },
    {
     "data": {
      "image/png": "[encoded data removed]",
      "text/plain": [
       "<Figure size 640x480 with 1 Axes>"
      ]
     },
     "metadata": {},
     "output_type": "display_data"
    },
    {
     "name": "stdout",
     "output_type": "stream",
     "text": [
      "B-    91\n",
      "B     75\n",
      "C     70\n",
      "A-    66\n",
      "B+    58\n",
      "C+    57\n",
      "A     47\n",
      "C-    41\n",
      "D+    34\n",
      "D     16\n",
      "A+     9\n",
      "F      7\n",
      "Name: CS-317, dtype: int64\n"
     ]
    },
    {
     "data": {
      "image/png": "[encoded data removed]",
      "text/plain": [
       "<Figure size 640x480 with 1 Axes>"
      ]
     },
     "metadata": {},
     "output_type": "display_data"
    },
    {
     "name": "stdout",
     "output_type": "stream",
     "text": [
      "A     145\n",
      "A-    106\n",
      "B+     62\n",
      "B-     55\n",
      "B      54\n",
      "D+     35\n",
      "C      33\n",
      "C+     32\n",
      "C-     30\n",
      "A+     15\n",
      "D       4\n",
      "Name: CS-403, dtype: int64\n"
     ]
    },
    {
     "data": {
      "image/png": "[encoded data removed]",
      "text/plain": [
       "<Figure size 640x480 with 1 Axes>"
      ]
     },
     "metadata": {},
     "output_type": "display_data"
    },
    {
     "name": "stdout",
     "output_type": "stream",
     "text": [
      "B     98\n",
      "B-    74\n",
      "C     68\n",
      "C+    61\n",
      "C-    60\n",
      "B+    60\n",
      "A-    47\n",
      "D+    36\n",
      "A     25\n",
      "D     21\n",
      "F     17\n",
      "A+     2\n",
      "W      2\n",
      "Name: CS-421, dtype: int64\n"
     ]
    },
    {
     "data": {
      "image/png": "[encoded data removed]",
      "text/plain": [
       "<Figure size 640x480 with 1 Axes>"
      ]
     },
     "metadata": {},
     "output_type": "display_data"
    },
    {
     "name": "stdout",
     "output_type": "stream",
     "text": [
      "A-    262\n",
      "A      79\n",
      "B+     64\n",
      "B      58\n",
      "B-     22\n",
      "C+     22\n",
      "C      19\n",
      "D+     14\n",
      "C-      8\n",
      "A+      8\n",
      "F       6\n",
      "D       5\n",
      "W       3\n",
      "WU      1\n",
      "Name: CS-406, dtype: int64\n"
     ]
    },
    {
     "data": {
      "image/png": "[encoded data removed]",
      "text/plain": [
       "<Figure size 640x480 with 1 Axes>"
      ]
     },
     "metadata": {},
     "output_type": "display_data"
    },
    {
     "name": "stdout",
     "output_type": "stream",
     "text": [
      "A     189\n",
      "A-    156\n",
      "B+     62\n",
      "B      54\n",
      "B-     21\n",
      "A+     21\n",
      "C+     21\n",
      "C      20\n",
      "C-     12\n",
      "F       7\n",
      "D+      3\n",
      "D       3\n",
      "W       2\n",
      "Name: CS-414, dtype: int64\n"
     ]
    },
    {
     "data": {
      "image/png": "[encoded data removed]",
      "text/plain": [
       "<Figure size 640x480 with 1 Axes>"
      ]
     },
     "metadata": {},
     "output_type": "display_data"
    },
    {
     "name": "stdout",
     "output_type": "stream",
     "text": [
      "A-    133\n",
      "B      89\n",
      "B+     85\n",
      "B-     78\n",
      "A      56\n",
      "C+     46\n",
      "C      40\n",
      "C-     20\n",
      "D+     13\n",
      "D       7\n",
      "A+      2\n",
      "F       2\n",
      "Name: CS-419, dtype: int64\n"
     ]
    },
    {
     "data": {
      "image/png": "[encoded data removed]",
      "text/plain": [
       "<Figure size 640x480 with 1 Axes>"
      ]
     },
     "metadata": {},
     "output_type": "display_data"
    },
    {
     "name": "stdout",
     "output_type": "stream",
     "text": [
      "A-    136\n",
      "A      78\n",
      "B+     75\n",
      "B      65\n",
      "B-     56\n",
      "C      45\n",
      "C+     39\n",
      "C-     29\n",
      "D+     25\n",
      "D      15\n",
      "F       5\n",
      "A+      3\n",
      "Name: CS-423, dtype: int64\n"
     ]
    },
    {
     "data": {
      "image/png": "[encoded data removed]",
      "text/plain": [
       "<Figure size 640x480 with 1 Axes>"
      ]
     },
     "metadata": {},
     "output_type": "display_data"
    },
    {
     "name": "stdout",
     "output_type": "stream",
     "text": [
      "A-    236\n",
      "B+     80\n",
      "A      77\n",
      "B      65\n",
      "B-     37\n",
      "C+     24\n",
      "C      19\n",
      "D+      8\n",
      "C-      7\n",
      "F       6\n",
      "D       5\n",
      "A+      4\n",
      "W       3\n",
      "Name: CS-412, dtype: int64\n"
     ]
    },
    {
     "data": {
      "image/png": "[encoded data removed]",
      "text/plain": [
       "<Figure size 640x480 with 1 Axes>"
      ]
     },
     "metadata": {},
     "output_type": "display_data"
    }
   ],
   "source": [
    "for i in group :\n",
    "    print(df[i].value_counts())\n",
    "    sns.countplot(x = df[i])\n",
    "    plt.show()"
   ]
  },
  {
   "cell_type": "code",
   "execution_count": 32,
   "id": "320b6ed7",
   "metadata": {},
   "outputs": [],
   "source": [
    "df.drop('Seat No.' ,axis=1 , inplace = True)"
   ]
  },
  {
   "cell_type": "code",
   "execution_count": 35,
   "id": "cae36686",
   "metadata": {},
   "outputs": [
    {
     "data": {
      "image/png": "[encoded data removed]",
      "text/plain": [
       "<Figure size 640x480 with 1 Axes>"
      ]
     },
     "metadata": {},
     "output_type": "display_data"
    }
   ],
   "source": [
    "sns.distplot(df['CGPA'])\n",
    "plt.show()"
   ]
  },
  {
   "cell_type": "markdown",
   "id": "e06da576",
   "metadata": {},
   "source": [
    "CGPA is normally distributed"
   ]
  },
  {
   "cell_type": "markdown",
   "id": "b849bbb3",
   "metadata": {},
   "source": [
    "# checking otliers"
   ]
  },
  {
   "cell_type": "code",
   "execution_count": 36,
   "id": "a01c8ceb",
   "metadata": {},
   "outputs": [
    {
     "data": {
      "image/png": "[encoded data removed]",
      "text/plain": [
       "<Figure size 640x480 with 1 Axes>"
      ]
     },
     "metadata": {},
     "output_type": "display_data"
    }
   ],
   "source": [
    "sns.boxplot(df['CGPA'])\n",
    "plt.show()"
   ]
  },
  {
   "cell_type": "code",
   "execution_count": 46,
   "id": "d58c590e",
   "metadata": {},
   "outputs": [
    {
     "name": "stdout",
     "output_type": "stream",
     "text": [
      "1.1685000000000005\n"
     ]
    }
   ],
   "source": [
    "#remove lower side\n",
    "q1 = df['CGPA'].quantile(0.25)\n",
    "q3 = df['CGPA'].quantile(0.75)\n",
    "IQR = q3 - q1\n",
    "lower_side = q1 -(1.5*IQR)\n",
    "print(lower_side)"
   ]
  },
  {
   "cell_type": "code",
   "execution_count": 48,
   "id": "0656f90c",
   "metadata": {},
   "outputs": [],
   "source": [
    "index = np.where(df['CGPA'] < lower_side)\n",
    "df = df.drop(df.index[index])"
   ]
  },
  {
   "cell_type": "code",
   "execution_count": 49,
   "id": "d3de269a",
   "metadata": {},
   "outputs": [
    {
     "data": {
      "text/plain": [
       "(567, 42)"
      ]
     },
     "execution_count": 49,
     "metadata": {},
     "output_type": "execute_result"
    }
   ],
   "source": [
    "df.shape"
   ]
  },
  {
   "cell_type": "code",
   "execution_count": 50,
   "id": "61094d0b",
   "metadata": {},
   "outputs": [
    {
     "data": {
      "image/png": "[encoded data removed]",
      "text/plain": [
       "<Figure size 640x480 with 1 Axes>"
      ]
     },
     "metadata": {},
     "output_type": "display_data"
    }
   ],
   "source": [
    "sns.boxplot(df['CGPA'])\n",
    "plt.show()"
   ]
  },
  {
   "cell_type": "markdown",
   "id": "ec169e8c",
   "metadata": {},
   "source": [
    "we removed outliers"
   ]
  },
  {
   "cell_type": "markdown",
   "id": "61c0c1bd",
   "metadata": {},
   "source": [
    "# Checking skewness"
   ]
  },
  {
   "cell_type": "code",
   "execution_count": 51,
   "id": "ac385cb7",
   "metadata": {},
   "outputs": [
    {
     "data": {
      "text/plain": [
       "CGPA   -0.366436\n",
       "dtype: float64"
      ]
     },
     "execution_count": 51,
     "metadata": {},
     "output_type": "execute_result"
    }
   ],
   "source": [
    "df.skew()"
   ]
  },
  {
   "cell_type": "markdown",
   "id": "41b0eefa",
   "metadata": {},
   "source": [
    "skewness is good as Data is normally distributed"
   ]
  },
  {
   "cell_type": "code",
   "execution_count": 53,
   "id": "979189ba",
   "metadata": {},
   "outputs": [],
   "source": [
    "#now convert categorical data to numerical data\n",
    "from sklearn.preprocessing import LabelEncoder"
   ]
  },
  {
   "cell_type": "code",
   "execution_count": 55,
   "id": "3c569580",
   "metadata": {},
   "outputs": [],
   "source": [
    "le = LabelEncoder()\n",
    "for i in group:\n",
    "    df[i]= le.fit_transform(df[i])"
   ]
  },
  {
   "cell_type": "code",
   "execution_count": 56,
   "id": "43a8ced8",
   "metadata": {},
   "outputs": [
    {
     "data": {
      "text/html": [
       "<div>\n",
       "<style scoped>\n",
       "    .dataframe tbody tr th:only-of-type {\n",
       "        vertical-align: middle;\n",
       "    }\n",
       "\n",
       "    .dataframe tbody tr th {\n",
       "        vertical-align: top;\n",
       "    }\n",
       "\n",
       "    .dataframe thead th {\n",
       "        text-align: right;\n",
       "    }\n",
       "</style>\n",
       "<table border=\"1\" class=\"dataframe\">\n",
       "  <thead>\n",
       "    <tr style=\"text-align: right;\">\n",
       "      <th></th>\n",
       "      <th>PH-121</th>\n",
       "      <th>HS-101</th>\n",
       "      <th>CY-105</th>\n",
       "      <th>HS-105/12</th>\n",
       "      <th>MT-111</th>\n",
       "      <th>CS-105</th>\n",
       "      <th>CS-106</th>\n",
       "      <th>EL-102</th>\n",
       "      <th>EE-119</th>\n",
       "      <th>ME-107</th>\n",
       "      <th>...</th>\n",
       "      <th>CS-312</th>\n",
       "      <th>CS-317</th>\n",
       "      <th>CS-403</th>\n",
       "      <th>CS-421</th>\n",
       "      <th>CS-406</th>\n",
       "      <th>CS-414</th>\n",
       "      <th>CS-419</th>\n",
       "      <th>CS-423</th>\n",
       "      <th>CS-412</th>\n",
       "      <th>CGPA</th>\n",
       "    </tr>\n",
       "  </thead>\n",
       "  <tbody>\n",
       "    <tr>\n",
       "      <th>0</th>\n",
       "      <td>5</td>\n",
       "      <td>10</td>\n",
       "      <td>8</td>\n",
       "      <td>6</td>\n",
       "      <td>8</td>\n",
       "      <td>10</td>\n",
       "      <td>9</td>\n",
       "      <td>8</td>\n",
       "      <td>5</td>\n",
       "      <td>8</td>\n",
       "      <td>...</td>\n",
       "      <td>8</td>\n",
       "      <td>8</td>\n",
       "      <td>8</td>\n",
       "      <td>8</td>\n",
       "      <td>2</td>\n",
       "      <td>0</td>\n",
       "      <td>8</td>\n",
       "      <td>3</td>\n",
       "      <td>2</td>\n",
       "      <td>2.205</td>\n",
       "    </tr>\n",
       "    <tr>\n",
       "      <th>1</th>\n",
       "      <td>0</td>\n",
       "      <td>9</td>\n",
       "      <td>10</td>\n",
       "      <td>9</td>\n",
       "      <td>5</td>\n",
       "      <td>6</td>\n",
       "      <td>9</td>\n",
       "      <td>0</td>\n",
       "      <td>10</td>\n",
       "      <td>9</td>\n",
       "      <td>...</td>\n",
       "      <td>10</td>\n",
       "      <td>9</td>\n",
       "      <td>6</td>\n",
       "      <td>9</td>\n",
       "      <td>2</td>\n",
       "      <td>5</td>\n",
       "      <td>6</td>\n",
       "      <td>6</td>\n",
       "      <td>3</td>\n",
       "      <td>2.008</td>\n",
       "    </tr>\n",
       "    <tr>\n",
       "      <th>2</th>\n",
       "      <td>0</td>\n",
       "      <td>3</td>\n",
       "      <td>0</td>\n",
       "      <td>5</td>\n",
       "      <td>4</td>\n",
       "      <td>0</td>\n",
       "      <td>5</td>\n",
       "      <td>4</td>\n",
       "      <td>2</td>\n",
       "      <td>2</td>\n",
       "      <td>...</td>\n",
       "      <td>3</td>\n",
       "      <td>3</td>\n",
       "      <td>0</td>\n",
       "      <td>6</td>\n",
       "      <td>0</td>\n",
       "      <td>0</td>\n",
       "      <td>0</td>\n",
       "      <td>2</td>\n",
       "      <td>0</td>\n",
       "      <td>3.608</td>\n",
       "    </tr>\n",
       "    <tr>\n",
       "      <th>3</th>\n",
       "      <td>9</td>\n",
       "      <td>7</td>\n",
       "      <td>10</td>\n",
       "      <td>9</td>\n",
       "      <td>9</td>\n",
       "      <td>2</td>\n",
       "      <td>10</td>\n",
       "      <td>8</td>\n",
       "      <td>9</td>\n",
       "      <td>7</td>\n",
       "      <td>...</td>\n",
       "      <td>10</td>\n",
       "      <td>6</td>\n",
       "      <td>10</td>\n",
       "      <td>8</td>\n",
       "      <td>5</td>\n",
       "      <td>3</td>\n",
       "      <td>7</td>\n",
       "      <td>7</td>\n",
       "      <td>7</td>\n",
       "      <td>1.906</td>\n",
       "    </tr>\n",
       "    <tr>\n",
       "      <th>4</th>\n",
       "      <td>2</td>\n",
       "      <td>2</td>\n",
       "      <td>2</td>\n",
       "      <td>4</td>\n",
       "      <td>0</td>\n",
       "      <td>0</td>\n",
       "      <td>2</td>\n",
       "      <td>4</td>\n",
       "      <td>0</td>\n",
       "      <td>2</td>\n",
       "      <td>...</td>\n",
       "      <td>5</td>\n",
       "      <td>4</td>\n",
       "      <td>4</td>\n",
       "      <td>5</td>\n",
       "      <td>2</td>\n",
       "      <td>0</td>\n",
       "      <td>2</td>\n",
       "      <td>2</td>\n",
       "      <td>0</td>\n",
       "      <td>3.448</td>\n",
       "    </tr>\n",
       "    <tr>\n",
       "      <th>...</th>\n",
       "      <td>...</td>\n",
       "      <td>...</td>\n",
       "      <td>...</td>\n",
       "      <td>...</td>\n",
       "      <td>...</td>\n",
       "      <td>...</td>\n",
       "      <td>...</td>\n",
       "      <td>...</td>\n",
       "      <td>...</td>\n",
       "      <td>...</td>\n",
       "      <td>...</td>\n",
       "      <td>...</td>\n",
       "      <td>...</td>\n",
       "      <td>...</td>\n",
       "      <td>...</td>\n",
       "      <td>...</td>\n",
       "      <td>...</td>\n",
       "      <td>...</td>\n",
       "      <td>...</td>\n",
       "      <td>...</td>\n",
       "      <td>...</td>\n",
       "    </tr>\n",
       "    <tr>\n",
       "      <th>566</th>\n",
       "      <td>3</td>\n",
       "      <td>0</td>\n",
       "      <td>0</td>\n",
       "      <td>2</td>\n",
       "      <td>1</td>\n",
       "      <td>0</td>\n",
       "      <td>2</td>\n",
       "      <td>2</td>\n",
       "      <td>1</td>\n",
       "      <td>4</td>\n",
       "      <td>...</td>\n",
       "      <td>2</td>\n",
       "      <td>2</td>\n",
       "      <td>0</td>\n",
       "      <td>0</td>\n",
       "      <td>0</td>\n",
       "      <td>4</td>\n",
       "      <td>4</td>\n",
       "      <td>3</td>\n",
       "      <td>0</td>\n",
       "      <td>3.798</td>\n",
       "    </tr>\n",
       "    <tr>\n",
       "      <th>567</th>\n",
       "      <td>1</td>\n",
       "      <td>0</td>\n",
       "      <td>0</td>\n",
       "      <td>0</td>\n",
       "      <td>0</td>\n",
       "      <td>0</td>\n",
       "      <td>0</td>\n",
       "      <td>2</td>\n",
       "      <td>0</td>\n",
       "      <td>0</td>\n",
       "      <td>...</td>\n",
       "      <td>4</td>\n",
       "      <td>4</td>\n",
       "      <td>0</td>\n",
       "      <td>0</td>\n",
       "      <td>2</td>\n",
       "      <td>3</td>\n",
       "      <td>2</td>\n",
       "      <td>6</td>\n",
       "      <td>2</td>\n",
       "      <td>3.772</td>\n",
       "    </tr>\n",
       "    <tr>\n",
       "      <th>568</th>\n",
       "      <td>3</td>\n",
       "      <td>0</td>\n",
       "      <td>2</td>\n",
       "      <td>4</td>\n",
       "      <td>0</td>\n",
       "      <td>0</td>\n",
       "      <td>0</td>\n",
       "      <td>0</td>\n",
       "      <td>0</td>\n",
       "      <td>3</td>\n",
       "      <td>...</td>\n",
       "      <td>2</td>\n",
       "      <td>3</td>\n",
       "      <td>0</td>\n",
       "      <td>4</td>\n",
       "      <td>0</td>\n",
       "      <td>6</td>\n",
       "      <td>4</td>\n",
       "      <td>2</td>\n",
       "      <td>2</td>\n",
       "      <td>3.470</td>\n",
       "    </tr>\n",
       "    <tr>\n",
       "      <th>569</th>\n",
       "      <td>0</td>\n",
       "      <td>4</td>\n",
       "      <td>9</td>\n",
       "      <td>0</td>\n",
       "      <td>9</td>\n",
       "      <td>10</td>\n",
       "      <td>5</td>\n",
       "      <td>8</td>\n",
       "      <td>5</td>\n",
       "      <td>8</td>\n",
       "      <td>...</td>\n",
       "      <td>9</td>\n",
       "      <td>3</td>\n",
       "      <td>3</td>\n",
       "      <td>8</td>\n",
       "      <td>9</td>\n",
       "      <td>6</td>\n",
       "      <td>3</td>\n",
       "      <td>5</td>\n",
       "      <td>6</td>\n",
       "      <td>2.193</td>\n",
       "    </tr>\n",
       "    <tr>\n",
       "      <th>570</th>\n",
       "      <td>6</td>\n",
       "      <td>9</td>\n",
       "      <td>9</td>\n",
       "      <td>6</td>\n",
       "      <td>6</td>\n",
       "      <td>10</td>\n",
       "      <td>3</td>\n",
       "      <td>7</td>\n",
       "      <td>6</td>\n",
       "      <td>10</td>\n",
       "      <td>...</td>\n",
       "      <td>7</td>\n",
       "      <td>6</td>\n",
       "      <td>5</td>\n",
       "      <td>9</td>\n",
       "      <td>11</td>\n",
       "      <td>8</td>\n",
       "      <td>4</td>\n",
       "      <td>9</td>\n",
       "      <td>8</td>\n",
       "      <td>1.753</td>\n",
       "    </tr>\n",
       "  </tbody>\n",
       "</table>\n",
       "<p>567 rows × 42 columns</p>\n",
       "</div>"
      ],
      "text/plain": [
       "     PH-121  HS-101  CY-105  HS-105/12  MT-111  CS-105  CS-106  EL-102  \\\n",
       "0         5      10       8          6       8      10       9       8   \n",
       "1         0       9      10          9       5       6       9       0   \n",
       "2         0       3       0          5       4       0       5       4   \n",
       "3         9       7      10          9       9       2      10       8   \n",
       "4         2       2       2          4       0       0       2       4   \n",
       "..      ...     ...     ...        ...     ...     ...     ...     ...   \n",
       "566       3       0       0          2       1       0       2       2   \n",
       "567       1       0       0          0       0       0       0       2   \n",
       "568       3       0       2          4       0       0       0       0   \n",
       "569       0       4       9          0       9      10       5       8   \n",
       "570       6       9       9          6       6      10       3       7   \n",
       "\n",
       "     EE-119  ME-107  ...  CS-312  CS-317  CS-403  CS-421  CS-406  CS-414  \\\n",
       "0         5       8  ...       8       8       8       8       2       0   \n",
       "1        10       9  ...      10       9       6       9       2       5   \n",
       "2         2       2  ...       3       3       0       6       0       0   \n",
       "3         9       7  ...      10       6      10       8       5       3   \n",
       "4         0       2  ...       5       4       4       5       2       0   \n",
       "..      ...     ...  ...     ...     ...     ...     ...     ...     ...   \n",
       "566       1       4  ...       2       2       0       0       0       4   \n",
       "567       0       0  ...       4       4       0       0       2       3   \n",
       "568       0       3  ...       2       3       0       4       0       6   \n",
       "569       5       8  ...       9       3       3       8       9       6   \n",
       "570       6      10  ...       7       6       5       9      11       8   \n",
       "\n",
       "     CS-419  CS-423  CS-412   CGPA  \n",
       "0         8       3       2  2.205  \n",
       "1         6       6       3  2.008  \n",
       "2         0       2       0  3.608  \n",
       "3         7       7       7  1.906  \n",
       "4         2       2       0  3.448  \n",
       "..      ...     ...     ...    ...  \n",
       "566       4       3       0  3.798  \n",
       "567       2       6       2  3.772  \n",
       "568       4       2       2  3.470  \n",
       "569       3       5       6  2.193  \n",
       "570       4       9       8  1.753  \n",
       "\n",
       "[567 rows x 42 columns]"
      ]
     },
     "execution_count": 56,
     "metadata": {},
     "output_type": "execute_result"
    }
   ],
   "source": [
    "df"
   ]
  },
  {
   "cell_type": "markdown",
   "id": "6a5d345e",
   "metadata": {},
   "source": [
    "# building model"
   ]
  },
  {
   "cell_type": "code",
   "execution_count": 57,
   "id": "9ef8e799",
   "metadata": {},
   "outputs": [
    {
     "name": "stdout",
     "output_type": "stream",
     "text": [
      "features shape :  (567, 41)\n",
      "label.shape :  (567,)\n"
     ]
    }
   ],
   "source": [
    "x = df.drop('CGPA', axis=1)\n",
    "y = df['CGPA']\n",
    "print('features shape : ',x.shape)\n",
    "print('label.shape : ',y.shape)"
   ]
  },
  {
   "cell_type": "code",
   "execution_count": 58,
   "id": "64cb01a7",
   "metadata": {},
   "outputs": [],
   "source": [
    "from sklearn.preprocessing import StandardScaler"
   ]
  },
  {
   "cell_type": "code",
   "execution_count": 60,
   "id": "eec003af",
   "metadata": {},
   "outputs": [
    {
     "data": {
      "text/html": [
       "<div>\n",
       "<style scoped>\n",
       "    .dataframe tbody tr th:only-of-type {\n",
       "        vertical-align: middle;\n",
       "    }\n",
       "\n",
       "    .dataframe tbody tr th {\n",
       "        vertical-align: top;\n",
       "    }\n",
       "\n",
       "    .dataframe thead th {\n",
       "        text-align: right;\n",
       "    }\n",
       "</style>\n",
       "<table border=\"1\" class=\"dataframe\">\n",
       "  <thead>\n",
       "    <tr style=\"text-align: right;\">\n",
       "      <th></th>\n",
       "      <th>PH-121</th>\n",
       "      <th>HS-101</th>\n",
       "      <th>CY-105</th>\n",
       "      <th>HS-105/12</th>\n",
       "      <th>MT-111</th>\n",
       "      <th>CS-105</th>\n",
       "      <th>CS-106</th>\n",
       "      <th>EL-102</th>\n",
       "      <th>EE-119</th>\n",
       "      <th>ME-107</th>\n",
       "      <th>...</th>\n",
       "      <th>CS-306</th>\n",
       "      <th>CS-312</th>\n",
       "      <th>CS-317</th>\n",
       "      <th>CS-403</th>\n",
       "      <th>CS-421</th>\n",
       "      <th>CS-406</th>\n",
       "      <th>CS-414</th>\n",
       "      <th>CS-419</th>\n",
       "      <th>CS-423</th>\n",
       "      <th>CS-412</th>\n",
       "    </tr>\n",
       "  </thead>\n",
       "  <tbody>\n",
       "    <tr>\n",
       "      <th>0</th>\n",
       "      <td>0.422196</td>\n",
       "      <td>1.792981</td>\n",
       "      <td>1.781525</td>\n",
       "      <td>0.566251</td>\n",
       "      <td>1.400516</td>\n",
       "      <td>2.720368</td>\n",
       "      <td>1.810762</td>\n",
       "      <td>1.363869</td>\n",
       "      <td>0.435349</td>\n",
       "      <td>1.045072</td>\n",
       "      <td>...</td>\n",
       "      <td>0.657405</td>\n",
       "      <td>1.162217</td>\n",
       "      <td>1.152205</td>\n",
       "      <td>1.527375</td>\n",
       "      <td>0.951997</td>\n",
       "      <td>-0.400724</td>\n",
       "      <td>-0.966624</td>\n",
       "      <td>1.732645</td>\n",
       "      <td>-0.350470</td>\n",
       "      <td>-0.452086</td>\n",
       "    </tr>\n",
       "    <tr>\n",
       "      <th>1</th>\n",
       "      <td>-1.244832</td>\n",
       "      <td>1.431452</td>\n",
       "      <td>2.472445</td>\n",
       "      <td>1.512412</td>\n",
       "      <td>0.384619</td>\n",
       "      <td>1.210384</td>\n",
       "      <td>1.810762</td>\n",
       "      <td>-1.313115</td>\n",
       "      <td>2.340003</td>\n",
       "      <td>1.366415</td>\n",
       "      <td>...</td>\n",
       "      <td>1.707402</td>\n",
       "      <td>1.757230</td>\n",
       "      <td>1.516161</td>\n",
       "      <td>0.854998</td>\n",
       "      <td>1.318449</td>\n",
       "      <td>-0.400724</td>\n",
       "      <td>1.035114</td>\n",
       "      <td>0.893696</td>\n",
       "      <td>0.721742</td>\n",
       "      <td>-0.024152</td>\n",
       "    </tr>\n",
       "    <tr>\n",
       "      <th>2</th>\n",
       "      <td>-1.244832</td>\n",
       "      <td>-0.737724</td>\n",
       "      <td>-0.982154</td>\n",
       "      <td>0.250863</td>\n",
       "      <td>0.045987</td>\n",
       "      <td>-1.054592</td>\n",
       "      <td>0.331897</td>\n",
       "      <td>0.025377</td>\n",
       "      <td>-0.707443</td>\n",
       "      <td>-0.882984</td>\n",
       "      <td>...</td>\n",
       "      <td>-0.742590</td>\n",
       "      <td>-0.325316</td>\n",
       "      <td>-0.667573</td>\n",
       "      <td>-1.162133</td>\n",
       "      <td>0.219095</td>\n",
       "      <td>-1.209302</td>\n",
       "      <td>-0.966624</td>\n",
       "      <td>-1.623152</td>\n",
       "      <td>-0.707874</td>\n",
       "      <td>-1.307955</td>\n",
       "    </tr>\n",
       "    <tr>\n",
       "      <th>3</th>\n",
       "      <td>1.755819</td>\n",
       "      <td>0.708393</td>\n",
       "      <td>2.472445</td>\n",
       "      <td>1.512412</td>\n",
       "      <td>1.739149</td>\n",
       "      <td>-0.299600</td>\n",
       "      <td>2.180479</td>\n",
       "      <td>1.363869</td>\n",
       "      <td>1.959072</td>\n",
       "      <td>0.723729</td>\n",
       "      <td>...</td>\n",
       "      <td>1.357403</td>\n",
       "      <td>1.757230</td>\n",
       "      <td>0.424294</td>\n",
       "      <td>2.199752</td>\n",
       "      <td>0.951997</td>\n",
       "      <td>0.812144</td>\n",
       "      <td>0.234419</td>\n",
       "      <td>1.313170</td>\n",
       "      <td>1.079146</td>\n",
       "      <td>1.687587</td>\n",
       "    </tr>\n",
       "    <tr>\n",
       "      <th>4</th>\n",
       "      <td>-0.578021</td>\n",
       "      <td>-1.099253</td>\n",
       "      <td>-0.291234</td>\n",
       "      <td>-0.064524</td>\n",
       "      <td>-1.308542</td>\n",
       "      <td>-1.054592</td>\n",
       "      <td>-0.777252</td>\n",
       "      <td>0.025377</td>\n",
       "      <td>-1.469304</td>\n",
       "      <td>-0.882984</td>\n",
       "      <td>...</td>\n",
       "      <td>-0.742590</td>\n",
       "      <td>0.269697</td>\n",
       "      <td>-0.303617</td>\n",
       "      <td>0.182621</td>\n",
       "      <td>-0.147356</td>\n",
       "      <td>-0.400724</td>\n",
       "      <td>-0.966624</td>\n",
       "      <td>-0.784203</td>\n",
       "      <td>-0.707874</td>\n",
       "      <td>-1.307955</td>\n",
       "    </tr>\n",
       "    <tr>\n",
       "      <th>...</th>\n",
       "      <td>...</td>\n",
       "      <td>...</td>\n",
       "      <td>...</td>\n",
       "      <td>...</td>\n",
       "      <td>...</td>\n",
       "      <td>...</td>\n",
       "      <td>...</td>\n",
       "      <td>...</td>\n",
       "      <td>...</td>\n",
       "      <td>...</td>\n",
       "      <td>...</td>\n",
       "      <td>...</td>\n",
       "      <td>...</td>\n",
       "      <td>...</td>\n",
       "      <td>...</td>\n",
       "      <td>...</td>\n",
       "      <td>...</td>\n",
       "      <td>...</td>\n",
       "      <td>...</td>\n",
       "      <td>...</td>\n",
       "      <td>...</td>\n",
       "    </tr>\n",
       "    <tr>\n",
       "      <th>562</th>\n",
       "      <td>-0.244615</td>\n",
       "      <td>-1.822311</td>\n",
       "      <td>-0.982154</td>\n",
       "      <td>-0.695298</td>\n",
       "      <td>-0.969910</td>\n",
       "      <td>-1.054592</td>\n",
       "      <td>-0.777252</td>\n",
       "      <td>-0.643869</td>\n",
       "      <td>-1.088374</td>\n",
       "      <td>-0.240299</td>\n",
       "      <td>...</td>\n",
       "      <td>-0.042592</td>\n",
       "      <td>-0.622822</td>\n",
       "      <td>-1.031529</td>\n",
       "      <td>-1.162133</td>\n",
       "      <td>-1.979612</td>\n",
       "      <td>-1.209302</td>\n",
       "      <td>0.634766</td>\n",
       "      <td>0.054746</td>\n",
       "      <td>-0.350470</td>\n",
       "      <td>-1.307955</td>\n",
       "    </tr>\n",
       "    <tr>\n",
       "      <th>563</th>\n",
       "      <td>-0.911426</td>\n",
       "      <td>-1.822311</td>\n",
       "      <td>-0.982154</td>\n",
       "      <td>-1.326072</td>\n",
       "      <td>-1.308542</td>\n",
       "      <td>-1.054592</td>\n",
       "      <td>-1.516685</td>\n",
       "      <td>-0.643869</td>\n",
       "      <td>-1.469304</td>\n",
       "      <td>-1.525669</td>\n",
       "      <td>...</td>\n",
       "      <td>-0.742590</td>\n",
       "      <td>-0.027809</td>\n",
       "      <td>-0.303617</td>\n",
       "      <td>-1.162133</td>\n",
       "      <td>-1.979612</td>\n",
       "      <td>-0.400724</td>\n",
       "      <td>0.234419</td>\n",
       "      <td>-0.784203</td>\n",
       "      <td>0.721742</td>\n",
       "      <td>-0.452086</td>\n",
       "    </tr>\n",
       "    <tr>\n",
       "      <th>564</th>\n",
       "      <td>-0.244615</td>\n",
       "      <td>-1.822311</td>\n",
       "      <td>-0.291234</td>\n",
       "      <td>-0.064524</td>\n",
       "      <td>-1.308542</td>\n",
       "      <td>-1.054592</td>\n",
       "      <td>-1.516685</td>\n",
       "      <td>-1.313115</td>\n",
       "      <td>-1.469304</td>\n",
       "      <td>-0.561641</td>\n",
       "      <td>...</td>\n",
       "      <td>-0.042592</td>\n",
       "      <td>-0.622822</td>\n",
       "      <td>-0.667573</td>\n",
       "      <td>-1.162133</td>\n",
       "      <td>-0.513807</td>\n",
       "      <td>-1.209302</td>\n",
       "      <td>1.435461</td>\n",
       "      <td>0.054746</td>\n",
       "      <td>-0.707874</td>\n",
       "      <td>-0.452086</td>\n",
       "    </tr>\n",
       "    <tr>\n",
       "      <th>565</th>\n",
       "      <td>-1.244832</td>\n",
       "      <td>-0.376194</td>\n",
       "      <td>2.126985</td>\n",
       "      <td>-1.326072</td>\n",
       "      <td>1.739149</td>\n",
       "      <td>2.720368</td>\n",
       "      <td>0.331897</td>\n",
       "      <td>1.363869</td>\n",
       "      <td>0.435349</td>\n",
       "      <td>1.045072</td>\n",
       "      <td>...</td>\n",
       "      <td>-0.042592</td>\n",
       "      <td>1.459723</td>\n",
       "      <td>-0.667573</td>\n",
       "      <td>-0.153568</td>\n",
       "      <td>0.951997</td>\n",
       "      <td>2.429300</td>\n",
       "      <td>1.435461</td>\n",
       "      <td>-0.364728</td>\n",
       "      <td>0.364338</td>\n",
       "      <td>1.259652</td>\n",
       "    </tr>\n",
       "    <tr>\n",
       "      <th>566</th>\n",
       "      <td>0.755602</td>\n",
       "      <td>1.431452</td>\n",
       "      <td>2.126985</td>\n",
       "      <td>0.566251</td>\n",
       "      <td>0.723252</td>\n",
       "      <td>2.720368</td>\n",
       "      <td>-0.407536</td>\n",
       "      <td>1.029246</td>\n",
       "      <td>0.816280</td>\n",
       "      <td>1.687757</td>\n",
       "      <td>...</td>\n",
       "      <td>2.057400</td>\n",
       "      <td>0.864710</td>\n",
       "      <td>0.424294</td>\n",
       "      <td>0.518809</td>\n",
       "      <td>1.318449</td>\n",
       "      <td>3.237879</td>\n",
       "      <td>2.236156</td>\n",
       "      <td>0.054746</td>\n",
       "      <td>1.793954</td>\n",
       "      <td>2.115522</td>\n",
       "    </tr>\n",
       "  </tbody>\n",
       "</table>\n",
       "<p>567 rows × 41 columns</p>\n",
       "</div>"
      ],
      "text/plain": [
       "       PH-121    HS-101    CY-105  HS-105/12    MT-111    CS-105    CS-106  \\\n",
       "0    0.422196  1.792981  1.781525   0.566251  1.400516  2.720368  1.810762   \n",
       "1   -1.244832  1.431452  2.472445   1.512412  0.384619  1.210384  1.810762   \n",
       "2   -1.244832 -0.737724 -0.982154   0.250863  0.045987 -1.054592  0.331897   \n",
       "3    1.755819  0.708393  2.472445   1.512412  1.739149 -0.299600  2.180479   \n",
       "4   -0.578021 -1.099253 -0.291234  -0.064524 -1.308542 -1.054592 -0.777252   \n",
       "..        ...       ...       ...        ...       ...       ...       ...   \n",
       "562 -0.244615 -1.822311 -0.982154  -0.695298 -0.969910 -1.054592 -0.777252   \n",
       "563 -0.911426 -1.822311 -0.982154  -1.326072 -1.308542 -1.054592 -1.516685   \n",
       "564 -0.244615 -1.822311 -0.291234  -0.064524 -1.308542 -1.054592 -1.516685   \n",
       "565 -1.244832 -0.376194  2.126985  -1.326072  1.739149  2.720368  0.331897   \n",
       "566  0.755602  1.431452  2.126985   0.566251  0.723252  2.720368 -0.407536   \n",
       "\n",
       "       EL-102    EE-119    ME-107  ...    CS-306    CS-312    CS-317  \\\n",
       "0    1.363869  0.435349  1.045072  ...  0.657405  1.162217  1.152205   \n",
       "1   -1.313115  2.340003  1.366415  ...  1.707402  1.757230  1.516161   \n",
       "2    0.025377 -0.707443 -0.882984  ... -0.742590 -0.325316 -0.667573   \n",
       "3    1.363869  1.959072  0.723729  ...  1.357403  1.757230  0.424294   \n",
       "4    0.025377 -1.469304 -0.882984  ... -0.742590  0.269697 -0.303617   \n",
       "..        ...       ...       ...  ...       ...       ...       ...   \n",
       "562 -0.643869 -1.088374 -0.240299  ... -0.042592 -0.622822 -1.031529   \n",
       "563 -0.643869 -1.469304 -1.525669  ... -0.742590 -0.027809 -0.303617   \n",
       "564 -1.313115 -1.469304 -0.561641  ... -0.042592 -0.622822 -0.667573   \n",
       "565  1.363869  0.435349  1.045072  ... -0.042592  1.459723 -0.667573   \n",
       "566  1.029246  0.816280  1.687757  ...  2.057400  0.864710  0.424294   \n",
       "\n",
       "       CS-403    CS-421    CS-406    CS-414    CS-419    CS-423    CS-412  \n",
       "0    1.527375  0.951997 -0.400724 -0.966624  1.732645 -0.350470 -0.452086  \n",
       "1    0.854998  1.318449 -0.400724  1.035114  0.893696  0.721742 -0.024152  \n",
       "2   -1.162133  0.219095 -1.209302 -0.966624 -1.623152 -0.707874 -1.307955  \n",
       "3    2.199752  0.951997  0.812144  0.234419  1.313170  1.079146  1.687587  \n",
       "4    0.182621 -0.147356 -0.400724 -0.966624 -0.784203 -0.707874 -1.307955  \n",
       "..        ...       ...       ...       ...       ...       ...       ...  \n",
       "562 -1.162133 -1.979612 -1.209302  0.634766  0.054746 -0.350470 -1.307955  \n",
       "563 -1.162133 -1.979612 -0.400724  0.234419 -0.784203  0.721742 -0.452086  \n",
       "564 -1.162133 -0.513807 -1.209302  1.435461  0.054746 -0.707874 -0.452086  \n",
       "565 -0.153568  0.951997  2.429300  1.435461 -0.364728  0.364338  1.259652  \n",
       "566  0.518809  1.318449  3.237879  2.236156  0.054746  1.793954  2.115522  \n",
       "\n",
       "[567 rows x 41 columns]"
      ]
     },
     "execution_count": 60,
     "metadata": {},
     "output_type": "execute_result"
    }
   ],
   "source": [
    "scaler = StandardScaler()\n",
    "x_scaled = pd.DataFrame(scaler.fit_transform(x) , columns = x.columns)\n",
    "x_scaled"
   ]
  },
  {
   "cell_type": "markdown",
   "id": "06e66250",
   "metadata": {},
   "source": [
    "# Checking Variance inflation factor"
   ]
  },
  {
   "cell_type": "code",
   "execution_count": 61,
   "id": "93093fb0",
   "metadata": {},
   "outputs": [],
   "source": [
    "from statsmodels.stats.outliers_influence import variance_inflation_factor"
   ]
  },
  {
   "cell_type": "code",
   "execution_count": 62,
   "id": "c71f3062",
   "metadata": {},
   "outputs": [
    {
     "data": {
      "text/html": [
       "<div>\n",
       "<style scoped>\n",
       "    .dataframe tbody tr th:only-of-type {\n",
       "        vertical-align: middle;\n",
       "    }\n",
       "\n",
       "    .dataframe tbody tr th {\n",
       "        vertical-align: top;\n",
       "    }\n",
       "\n",
       "    .dataframe thead th {\n",
       "        text-align: right;\n",
       "    }\n",
       "</style>\n",
       "<table border=\"1\" class=\"dataframe\">\n",
       "  <thead>\n",
       "    <tr style=\"text-align: right;\">\n",
       "      <th></th>\n",
       "      <th>VIF</th>\n",
       "      <th>Column</th>\n",
       "    </tr>\n",
       "  </thead>\n",
       "  <tbody>\n",
       "    <tr>\n",
       "      <th>0</th>\n",
       "      <td>2.782134</td>\n",
       "      <td>PH-121</td>\n",
       "    </tr>\n",
       "    <tr>\n",
       "      <th>1</th>\n",
       "      <td>1.769755</td>\n",
       "      <td>HS-101</td>\n",
       "    </tr>\n",
       "    <tr>\n",
       "      <th>2</th>\n",
       "      <td>2.460488</td>\n",
       "      <td>CY-105</td>\n",
       "    </tr>\n",
       "    <tr>\n",
       "      <th>3</th>\n",
       "      <td>2.259585</td>\n",
       "      <td>HS-105/12</td>\n",
       "    </tr>\n",
       "    <tr>\n",
       "      <th>4</th>\n",
       "      <td>2.613997</td>\n",
       "      <td>MT-111</td>\n",
       "    </tr>\n",
       "    <tr>\n",
       "      <th>5</th>\n",
       "      <td>2.320173</td>\n",
       "      <td>CS-105</td>\n",
       "    </tr>\n",
       "    <tr>\n",
       "      <th>6</th>\n",
       "      <td>1.947968</td>\n",
       "      <td>CS-106</td>\n",
       "    </tr>\n",
       "    <tr>\n",
       "      <th>7</th>\n",
       "      <td>1.945423</td>\n",
       "      <td>EL-102</td>\n",
       "    </tr>\n",
       "    <tr>\n",
       "      <th>8</th>\n",
       "      <td>2.164558</td>\n",
       "      <td>EE-119</td>\n",
       "    </tr>\n",
       "    <tr>\n",
       "      <th>9</th>\n",
       "      <td>2.289134</td>\n",
       "      <td>ME-107</td>\n",
       "    </tr>\n",
       "    <tr>\n",
       "      <th>10</th>\n",
       "      <td>2.368168</td>\n",
       "      <td>CS-107</td>\n",
       "    </tr>\n",
       "    <tr>\n",
       "      <th>11</th>\n",
       "      <td>1.616942</td>\n",
       "      <td>HS-205/20</td>\n",
       "    </tr>\n",
       "    <tr>\n",
       "      <th>12</th>\n",
       "      <td>2.282114</td>\n",
       "      <td>MT-222</td>\n",
       "    </tr>\n",
       "    <tr>\n",
       "      <th>13</th>\n",
       "      <td>2.274914</td>\n",
       "      <td>EE-222</td>\n",
       "    </tr>\n",
       "    <tr>\n",
       "      <th>14</th>\n",
       "      <td>2.795805</td>\n",
       "      <td>MT-224</td>\n",
       "    </tr>\n",
       "    <tr>\n",
       "      <th>15</th>\n",
       "      <td>3.112679</td>\n",
       "      <td>CS-210</td>\n",
       "    </tr>\n",
       "    <tr>\n",
       "      <th>16</th>\n",
       "      <td>2.615705</td>\n",
       "      <td>CS-211</td>\n",
       "    </tr>\n",
       "    <tr>\n",
       "      <th>17</th>\n",
       "      <td>2.584903</td>\n",
       "      <td>CS-203</td>\n",
       "    </tr>\n",
       "    <tr>\n",
       "      <th>18</th>\n",
       "      <td>2.690579</td>\n",
       "      <td>CS-214</td>\n",
       "    </tr>\n",
       "    <tr>\n",
       "      <th>19</th>\n",
       "      <td>2.426831</td>\n",
       "      <td>EE-217</td>\n",
       "    </tr>\n",
       "    <tr>\n",
       "      <th>20</th>\n",
       "      <td>2.782022</td>\n",
       "      <td>CS-212</td>\n",
       "    </tr>\n",
       "    <tr>\n",
       "      <th>21</th>\n",
       "      <td>2.991833</td>\n",
       "      <td>CS-215</td>\n",
       "    </tr>\n",
       "    <tr>\n",
       "      <th>22</th>\n",
       "      <td>2.048941</td>\n",
       "      <td>MT-331</td>\n",
       "    </tr>\n",
       "    <tr>\n",
       "      <th>23</th>\n",
       "      <td>2.103903</td>\n",
       "      <td>EF-303</td>\n",
       "    </tr>\n",
       "    <tr>\n",
       "      <th>24</th>\n",
       "      <td>2.524619</td>\n",
       "      <td>HS-304</td>\n",
       "    </tr>\n",
       "    <tr>\n",
       "      <th>25</th>\n",
       "      <td>3.084732</td>\n",
       "      <td>CS-301</td>\n",
       "    </tr>\n",
       "    <tr>\n",
       "      <th>26</th>\n",
       "      <td>2.749736</td>\n",
       "      <td>CS-302</td>\n",
       "    </tr>\n",
       "    <tr>\n",
       "      <th>27</th>\n",
       "      <td>2.867667</td>\n",
       "      <td>TC-383</td>\n",
       "    </tr>\n",
       "    <tr>\n",
       "      <th>28</th>\n",
       "      <td>2.044001</td>\n",
       "      <td>MT-442</td>\n",
       "    </tr>\n",
       "    <tr>\n",
       "      <th>29</th>\n",
       "      <td>3.282807</td>\n",
       "      <td>EL-332</td>\n",
       "    </tr>\n",
       "    <tr>\n",
       "      <th>30</th>\n",
       "      <td>2.356553</td>\n",
       "      <td>CS-318</td>\n",
       "    </tr>\n",
       "    <tr>\n",
       "      <th>31</th>\n",
       "      <td>3.479950</td>\n",
       "      <td>CS-306</td>\n",
       "    </tr>\n",
       "    <tr>\n",
       "      <th>32</th>\n",
       "      <td>3.224073</td>\n",
       "      <td>CS-312</td>\n",
       "    </tr>\n",
       "    <tr>\n",
       "      <th>33</th>\n",
       "      <td>3.175449</td>\n",
       "      <td>CS-317</td>\n",
       "    </tr>\n",
       "    <tr>\n",
       "      <th>34</th>\n",
       "      <td>2.516247</td>\n",
       "      <td>CS-403</td>\n",
       "    </tr>\n",
       "    <tr>\n",
       "      <th>35</th>\n",
       "      <td>2.801123</td>\n",
       "      <td>CS-421</td>\n",
       "    </tr>\n",
       "    <tr>\n",
       "      <th>36</th>\n",
       "      <td>2.168609</td>\n",
       "      <td>CS-406</td>\n",
       "    </tr>\n",
       "    <tr>\n",
       "      <th>37</th>\n",
       "      <td>2.283246</td>\n",
       "      <td>CS-414</td>\n",
       "    </tr>\n",
       "    <tr>\n",
       "      <th>38</th>\n",
       "      <td>2.567107</td>\n",
       "      <td>CS-419</td>\n",
       "    </tr>\n",
       "    <tr>\n",
       "      <th>39</th>\n",
       "      <td>2.571053</td>\n",
       "      <td>CS-423</td>\n",
       "    </tr>\n",
       "    <tr>\n",
       "      <th>40</th>\n",
       "      <td>2.374981</td>\n",
       "      <td>CS-412</td>\n",
       "    </tr>\n",
       "  </tbody>\n",
       "</table>\n",
       "</div>"
      ],
      "text/plain": [
       "         VIF     Column\n",
       "0   2.782134     PH-121\n",
       "1   1.769755     HS-101\n",
       "2   2.460488     CY-105\n",
       "3   2.259585  HS-105/12\n",
       "4   2.613997     MT-111\n",
       "5   2.320173     CS-105\n",
       "6   1.947968     CS-106\n",
       "7   1.945423     EL-102\n",
       "8   2.164558     EE-119\n",
       "9   2.289134     ME-107\n",
       "10  2.368168     CS-107\n",
       "11  1.616942  HS-205/20\n",
       "12  2.282114     MT-222\n",
       "13  2.274914     EE-222\n",
       "14  2.795805     MT-224\n",
       "15  3.112679     CS-210\n",
       "16  2.615705     CS-211\n",
       "17  2.584903     CS-203\n",
       "18  2.690579     CS-214\n",
       "19  2.426831     EE-217\n",
       "20  2.782022     CS-212\n",
       "21  2.991833     CS-215\n",
       "22  2.048941     MT-331\n",
       "23  2.103903     EF-303\n",
       "24  2.524619     HS-304\n",
       "25  3.084732     CS-301\n",
       "26  2.749736     CS-302\n",
       "27  2.867667     TC-383\n",
       "28  2.044001     MT-442\n",
       "29  3.282807     EL-332\n",
       "30  2.356553     CS-318\n",
       "31  3.479950     CS-306\n",
       "32  3.224073     CS-312\n",
       "33  3.175449     CS-317\n",
       "34  2.516247     CS-403\n",
       "35  2.801123     CS-421\n",
       "36  2.168609     CS-406\n",
       "37  2.283246     CS-414\n",
       "38  2.567107     CS-419\n",
       "39  2.571053     CS-423\n",
       "40  2.374981     CS-412"
      ]
     },
     "execution_count": 62,
     "metadata": {},
     "output_type": "execute_result"
    }
   ],
   "source": [
    "vif = pd.DataFrame()\n",
    "vif['VIF']= [variance_inflation_factor(x_scaled.values , i) for i in range(len(x_scaled.columns))]\n",
    "vif['Column'] = x_scaled.columns\n",
    "vif"
   ]
  },
  {
   "cell_type": "markdown",
   "id": "650c6b4a",
   "metadata": {},
   "source": [
    "As we see above there is no multicollineraity problem"
   ]
  },
  {
   "cell_type": "markdown",
   "id": "5d8a929d",
   "metadata": {},
   "source": [
    "# Building Model"
   ]
  },
  {
   "cell_type": "code",
   "execution_count": 63,
   "id": "25a8ff72",
   "metadata": {},
   "outputs": [],
   "source": [
    "from sklearn.linear_model import LinearRegression\n",
    "from sklearn.model_selection import train_test_split\n",
    "from sklearn.metrics import mean_absolute_error , mean_squared_error , r2_score"
   ]
  },
  {
   "cell_type": "code",
   "execution_count": 64,
   "id": "e2303b9e",
   "metadata": {},
   "outputs": [],
   "source": [
    "#find the best random state\n",
    "lr = LinearRegression()\n",
    "accuracy = []\n",
    "random=[]\n",
    "for i in range(1,200):\n",
    "    x_train,x_test,y_train,y_test = train_test_split(x_scaled,y ,test_size=0.3, random_state=i)\n",
    "    lr.fit(x_train,y_train)\n",
    "    y_pred= lr.predict(x_test)\n",
    "    acc = r2_score(y_test,y_pred)\n",
    "    accuracy.append(acc)\n",
    "    random.append(i)"
   ]
  },
  {
   "cell_type": "code",
   "execution_count": 65,
   "id": "f4f4f62f",
   "metadata": {},
   "outputs": [
    {
     "data": {
      "text/html": [
       "<div>\n",
       "<style scoped>\n",
       "    .dataframe tbody tr th:only-of-type {\n",
       "        vertical-align: middle;\n",
       "    }\n",
       "\n",
       "    .dataframe tbody tr th {\n",
       "        vertical-align: top;\n",
       "    }\n",
       "\n",
       "    .dataframe thead th {\n",
       "        text-align: right;\n",
       "    }\n",
       "</style>\n",
       "<table border=\"1\" class=\"dataframe\">\n",
       "  <thead>\n",
       "    <tr style=\"text-align: right;\">\n",
       "      <th></th>\n",
       "      <th>accuracy</th>\n",
       "      <th>n.of state</th>\n",
       "    </tr>\n",
       "  </thead>\n",
       "  <tbody>\n",
       "    <tr>\n",
       "      <th>0</th>\n",
       "      <td>0.980388</td>\n",
       "      <td>1</td>\n",
       "    </tr>\n",
       "    <tr>\n",
       "      <th>1</th>\n",
       "      <td>0.968382</td>\n",
       "      <td>2</td>\n",
       "    </tr>\n",
       "    <tr>\n",
       "      <th>2</th>\n",
       "      <td>0.963264</td>\n",
       "      <td>3</td>\n",
       "    </tr>\n",
       "    <tr>\n",
       "      <th>3</th>\n",
       "      <td>0.978174</td>\n",
       "      <td>4</td>\n",
       "    </tr>\n",
       "    <tr>\n",
       "      <th>4</th>\n",
       "      <td>0.965522</td>\n",
       "      <td>5</td>\n",
       "    </tr>\n",
       "    <tr>\n",
       "      <th>...</th>\n",
       "      <td>...</td>\n",
       "      <td>...</td>\n",
       "    </tr>\n",
       "    <tr>\n",
       "      <th>194</th>\n",
       "      <td>0.967726</td>\n",
       "      <td>195</td>\n",
       "    </tr>\n",
       "    <tr>\n",
       "      <th>195</th>\n",
       "      <td>0.978639</td>\n",
       "      <td>196</td>\n",
       "    </tr>\n",
       "    <tr>\n",
       "      <th>196</th>\n",
       "      <td>0.976471</td>\n",
       "      <td>197</td>\n",
       "    </tr>\n",
       "    <tr>\n",
       "      <th>197</th>\n",
       "      <td>0.910993</td>\n",
       "      <td>198</td>\n",
       "    </tr>\n",
       "    <tr>\n",
       "      <th>198</th>\n",
       "      <td>0.962481</td>\n",
       "      <td>199</td>\n",
       "    </tr>\n",
       "  </tbody>\n",
       "</table>\n",
       "<p>199 rows × 2 columns</p>\n",
       "</div>"
      ],
      "text/plain": [
       "     accuracy  n.of state\n",
       "0    0.980388           1\n",
       "1    0.968382           2\n",
       "2    0.963264           3\n",
       "3    0.978174           4\n",
       "4    0.965522           5\n",
       "..        ...         ...\n",
       "194  0.967726         195\n",
       "195  0.978639         196\n",
       "196  0.976471         197\n",
       "197  0.910993         198\n",
       "198  0.962481         199\n",
       "\n",
       "[199 rows x 2 columns]"
      ]
     },
     "execution_count": 65,
     "metadata": {},
     "output_type": "execute_result"
    }
   ],
   "source": [
    "random_state =pd.DataFrame()\n",
    "random_state['accuracy']= accuracy\n",
    "random_state['n.of state']=random\n",
    "random_state"
   ]
  },
  {
   "cell_type": "code",
   "execution_count": 66,
   "id": "4b2fa97f",
   "metadata": {},
   "outputs": [
    {
     "data": {
      "text/html": [
       "<div>\n",
       "<style scoped>\n",
       "    .dataframe tbody tr th:only-of-type {\n",
       "        vertical-align: middle;\n",
       "    }\n",
       "\n",
       "    .dataframe tbody tr th {\n",
       "        vertical-align: top;\n",
       "    }\n",
       "\n",
       "    .dataframe thead th {\n",
       "        text-align: right;\n",
       "    }\n",
       "</style>\n",
       "<table border=\"1\" class=\"dataframe\">\n",
       "  <thead>\n",
       "    <tr style=\"text-align: right;\">\n",
       "      <th></th>\n",
       "      <th>accuracy</th>\n",
       "      <th>n.of state</th>\n",
       "    </tr>\n",
       "  </thead>\n",
       "  <tbody>\n",
       "    <tr>\n",
       "      <th>122</th>\n",
       "      <td>0.983988</td>\n",
       "      <td>123</td>\n",
       "    </tr>\n",
       "  </tbody>\n",
       "</table>\n",
       "</div>"
      ],
      "text/plain": [
       "     accuracy  n.of state\n",
       "122  0.983988         123"
      ]
     },
     "execution_count": 66,
     "metadata": {},
     "output_type": "execute_result"
    }
   ],
   "source": [
    "random_state[random_state['accuracy']== random_state['accuracy'].max()]"
   ]
  },
  {
   "cell_type": "markdown",
   "id": "d3474c1d",
   "metadata": {},
   "source": [
    "accuracy is 0.983988 when number of states is 123"
   ]
  },
  {
   "cell_type": "code",
   "execution_count": 70,
   "id": "bed07f42",
   "metadata": {},
   "outputs": [],
   "source": [
    "x_train,x_test,y_train,y_test = train_test_split(x_scaled,y ,test_size=0.3, random_state=123)"
   ]
  },
  {
   "cell_type": "code",
   "execution_count": 71,
   "id": "42fafe53",
   "metadata": {},
   "outputs": [],
   "source": [
    "from sklearn.ensemble import RandomForestRegressor , GradientBoostingRegressor , ExtraTreesRegressor\n",
    "from sklearn.tree import DecisionTreeRegressor\n",
    "from sklearn.neighbors import KNeighborsRegressor\n",
    "from sklearn.linear_model import Lasso , Ridge\n",
    "from sklearn.svm import SVR"
   ]
  },
  {
   "cell_type": "code",
   "execution_count": 72,
   "id": "2890615c",
   "metadata": {},
   "outputs": [],
   "source": [
    "rfr = RandomForestRegressor()\n",
    "gbr = GradientBoostingRegressor()\n",
    "et = ExtraTreesRegressor()\n",
    "dtr = DecisionTreeRegressor()\n",
    "knn = KNeighborsRegressor()\n",
    "las = Lasso()\n",
    "ri = Ridge()\n",
    "svr = SVR()"
   ]
  },
  {
   "cell_type": "code",
   "execution_count": 73,
   "id": "a386f695",
   "metadata": {},
   "outputs": [
    {
     "name": "stdout",
     "output_type": "stream",
     "text": [
      "mdel name is  LinearRegression\n",
      "accuracy score on train data is  95.83  %\n",
      "accuracy score on test data is  98.40  %\n",
      "mean absolute error is  0.05958976916869975\n",
      "mean squared error is  0.0057502207855025965\n",
      "root mean squared is ,  0.07583021024303306\n",
      "\n",
      "\n",
      "mdel name is  RandomForestRegressor\n",
      "accuracy score on train data is  98.75  %\n",
      "accuracy score on test data is  93.47  %\n",
      "mean absolute error is  0.11022608187134492\n",
      "mean squared error is  0.023450307066666638\n",
      "root mean squared is ,  0.15313493091606056\n",
      "\n",
      "\n",
      "mdel name is  GradientBoostingRegressor\n",
      "accuracy score on train data is  99.66  %\n",
      "accuracy score on test data is  96.13  %\n",
      "mean absolute error is  0.09044356286037535\n",
      "mean squared error is  0.013880152348424131\n",
      "root mean squared is ,  0.1178140583649682\n",
      "\n",
      "\n",
      "mdel name is  ExtraTreesRegressor\n",
      "accuracy score on train data is  100.00  %\n",
      "accuracy score on test data is  95.88  %\n",
      "mean absolute error is  0.0906782456140352\n",
      "mean squared error is  0.014798484017543894\n",
      "root mean squared is ,  0.12164901979688901\n",
      "\n",
      "\n",
      "mdel name is  DecisionTreeRegressor\n",
      "accuracy score on train data is  100.00  %\n",
      "accuracy score on test data is  82.71  %\n",
      "mean absolute error is  0.18392982456140353\n",
      "mean squared error is  0.06210701754385965\n",
      "root mean squared is ,  0.24921279570651997\n",
      "\n",
      "\n",
      "mdel name is  KNeighborsRegressor\n",
      "accuracy score on train data is  94.68  %\n",
      "accuracy score on test data is  96.17  %\n",
      "mean absolute error is  0.08914736842105263\n",
      "mean squared error is  0.013737152982456138\n",
      "root mean squared is ,  0.11720560132713853\n",
      "\n",
      "\n",
      "mdel name is  Lasso\n",
      "accuracy score on train data is  0.00  %\n",
      "accuracy score on test data is  -0.01  %\n",
      "mean absolute error is  0.5022103786402032\n",
      "mean squared error is  0.35914722144759664\n",
      "root mean squared is ,  0.5992889298557055\n",
      "\n",
      "\n",
      "mdel name is  Ridge\n",
      "accuracy score on train data is  95.83  %\n",
      "accuracy score on test data is  98.41  %\n",
      "mean absolute error is  0.059445313435514534\n",
      "mean squared error is  0.005718189882650841\n",
      "root mean squared is ,  0.07561871383890922\n",
      "\n",
      "\n",
      "mdel name is  SVR\n",
      "accuracy score on train data is  97.72  %\n",
      "accuracy score on test data is  96.61  %\n",
      "mean absolute error is  0.07947826616549925\n",
      "mean squared error is  0.01219181895397736\n",
      "root mean squared is ,  0.11041657010601878\n",
      "\n",
      "\n"
     ]
    }
   ],
   "source": [
    "models = {'LinearRegression':lr ,'RandomForestRegressor':rfr ,'GradientBoostingRegressor':gbr ,\n",
    "        'ExtraTreesRegressor':et , 'DecisionTreeRegressor':dtr ,\n",
    "          'KNeighborsRegressor':knn , 'Lasso':las , 'Ridge':ri ,'SVR':svr}\n",
    "for name , m in models.items():\n",
    "    m.fit(x_train,y_train)\n",
    "    pred_train = m.predict(x_train)\n",
    "    pred_test= m.predict(x_test)\n",
    "    print('mdel name is ',name)\n",
    "    print('accuracy score on train data is ','{:.2f}'.format(r2_score(y_train,pred_train)*100),' %')\n",
    "    print('accuracy score on test data is ','{:.2f}'.format(r2_score(y_test,pred_test)*100),' %')\n",
    "    print('mean absolute error is ',mean_absolute_error(y_test,pred_test))\n",
    "    print('mean squared error is ',mean_squared_error(y_test ,pred_test))\n",
    "    print('root mean squared is , ',np.sqrt(mean_squared_error(y_test ,pred_test)))\n",
    "    print('\\n')"
   ]
  },
  {
   "cell_type": "markdown",
   "id": "5bdcc0d8",
   "metadata": {},
   "source": [
    "LinearRegression has the best accuracy on test data"
   ]
  },
  {
   "cell_type": "code",
   "execution_count": 74,
   "id": "88710475",
   "metadata": {},
   "outputs": [],
   "source": [
    "from sklearn.model_selection import cross_val_score"
   ]
  },
  {
   "cell_type": "code",
   "execution_count": 77,
   "id": "6e7d8785",
   "metadata": {},
   "outputs": [
    {
     "name": "stdout",
     "output_type": "stream",
     "text": [
      "model name is  LinearRegression\n",
      "score is  [0.8803165  0.98209067 0.96596642 0.97652315 0.96413879]\n",
      "mean of scre is  0.9538071047123085\n",
      "Difference between r2 score and cross validation score is  0.030180770235565646\n",
      "\n",
      "\n",
      "model name is  RandomForestRegressor\n",
      "score is  [0.87123974 0.93635284 0.95509575 0.9360046  0.91609791]\n",
      "mean of scre is  0.9229581681718256\n",
      "Difference between r2 score and cross validation score is  0.011741861049852642\n",
      "\n",
      "\n",
      "model name is  GradientBoostingRegressor\n",
      "score is  [0.86530794 0.96052869 0.96265033 0.95213473 0.95234402]\n",
      "mean of scre is  0.9385931423276375\n",
      "Difference between r2 score and cross validation score is  0.022756040001871924\n",
      "\n",
      "\n",
      "model name is  ExtraTreesRegressor\n",
      "score is  [0.86489531 0.95621953 0.95972234 0.95097818 0.94938881]\n",
      "mean of scre is  0.9362408321479012\n",
      "Difference between r2 score and cross validation score is  0.022551154193178324\n",
      "\n",
      "\n",
      "model name is  DecisionTreeRegressor\n",
      "score is  [0.74973928 0.79311062 0.86714032 0.80250021 0.78203931]\n",
      "mean of scre is  0.7989059497125048\n",
      "Difference between r2 score and cross validation score is  0.028150198455910713\n",
      "\n",
      "\n",
      "model name is  KNeighborsRegressor\n",
      "score is  [0.86262964 0.94892879 0.95738193 0.96238685 0.93443915]\n",
      "mean of scre is  0.9331532732017791\n",
      "Difference between r2 score and cross validation score is  0.028594106660601915\n",
      "\n",
      "\n",
      "model name is  Lasso\n",
      "score is  [-0.00856415 -0.00567038 -0.00055008 -0.00038718 -0.03105204]\n",
      "mean of scre is  -0.009244767924601983\n",
      "Difference between r2 score and cross validation score is  0.00915965181199856\n",
      "\n",
      "\n",
      "model name is  Ridge\n",
      "score is  [0.88035793 0.98214057 0.96608123 0.97664798 0.96432441]\n",
      "mean of scre is  0.9539104240452406\n",
      "Difference between r2 score and cross validation score is  0.03016664449034545\n",
      "\n",
      "\n",
      "model name is  SVR\n",
      "score is  [0.85580155 0.96774502 0.95648712 0.94296082 0.93921788]\n",
      "mean of scre is  0.9324424779482643\n",
      "Difference between r2 score and cross validation score is  0.03360805524236665\n",
      "\n",
      "\n"
     ]
    }
   ],
   "source": [
    "models = {'LinearRegression':lr ,'RandomForestRegressor':rfr ,'GradientBoostingRegressor':gbr ,\n",
    "        'ExtraTreesRegressor':et , 'DecisionTreeRegressor':dtr ,\n",
    "          'KNeighborsRegressor':knn , 'Lasso':las , 'Ridge':ri ,'SVR':svr}\n",
    "for name , m in models.items():\n",
    "    score = cross_val_score(m , x_scaled , y ,scoring='r2')\n",
    "    mean= score.mean()\n",
    "    print('model name is ',name)\n",
    "    print('score is ',score)\n",
    "    print('mean of scre is ',mean)\n",
    "    print('Difference between r2 score and cross validation score is ',r2_score(y_test,m.predict(x_test)) - mean)\n",
    "    print('\\n')"
   ]
  },
  {
   "cell_type": "markdown",
   "id": "be4aba1f",
   "metadata": {},
   "source": [
    "RandomForestRegressor has the least cross validation value so we will use it while Lasso is not predictable for this model"
   ]
  },
  {
   "cell_type": "code",
   "execution_count": 118,
   "id": "2202d26b",
   "metadata": {},
   "outputs": [
    {
     "name": "stdout",
     "output_type": "stream",
     "text": [
      "accuracy score on train data is  98.84  %\n",
      "accuracy score on test data is  93.80  %\n",
      "mean absolute error is  0.10989157894736826\n",
      "mean squared error is  0.022277546063157863\n",
      "root mean squared is ,  0.14925664495478205\n"
     ]
    }
   ],
   "source": [
    "rfr = RandomForestRegressor()\n",
    "rfr.fit(x_train,y_train)\n",
    "pred_train = rfr.predict(x_train)\n",
    "pred_test= rfr.predict(x_test)\n",
    "print('accuracy score on train data is ','{:.2f}'.format(r2_score(y_train,pred_train)*100),' %')\n",
    "print('accuracy score on test data is ','{:.2f}'.format(r2_score(y_test,pred_test)*100),' %')\n",
    "print('mean absolute error is ',mean_absolute_error(y_test,pred_test))\n",
    "print('mean squared error is ',mean_squared_error(y_test ,pred_test))\n",
    "print('root mean squared is , ',np.sqrt(mean_squared_error(y_test ,pred_test)))"
   ]
  },
  {
   "cell_type": "code",
   "execution_count": 119,
   "id": "254fe520",
   "metadata": {},
   "outputs": [
    {
     "data": {
      "image/png": "[encoded data removed]",
      "text/plain": [
       "<Figure size 640x480 with 1 Axes>"
      ]
     },
     "metadata": {},
     "output_type": "display_data"
    }
   ],
   "source": [
    "plt.title('Relation between predicted and actual Grades')\n",
    "plt.scatter(y_test,pred_test)\n",
    "plt.xlabel('actual grades')\n",
    "plt.ylabel('predicted grades')\n",
    "plt.show()"
   ]
  },
  {
   "cell_type": "markdown",
   "id": "91733cbf",
   "metadata": {},
   "source": [
    "There is  a strong predicting relation between actual and predictive values"
   ]
  },
  {
   "cell_type": "code",
   "execution_count": 120,
   "id": "408556ff",
   "metadata": {},
   "outputs": [
    {
     "data": {
      "text/html": [
       "<div>\n",
       "<style scoped>\n",
       "    .dataframe tbody tr th:only-of-type {\n",
       "        vertical-align: middle;\n",
       "    }\n",
       "\n",
       "    .dataframe tbody tr th {\n",
       "        vertical-align: top;\n",
       "    }\n",
       "\n",
       "    .dataframe thead th {\n",
       "        text-align: right;\n",
       "    }\n",
       "</style>\n",
       "<table border=\"1\" class=\"dataframe\">\n",
       "  <thead>\n",
       "    <tr style=\"text-align: right;\">\n",
       "      <th></th>\n",
       "      <th>Actual Grade</th>\n",
       "      <th>Predicted Grade</th>\n",
       "    </tr>\n",
       "  </thead>\n",
       "  <tbody>\n",
       "    <tr>\n",
       "      <th>430</th>\n",
       "      <td>3.424</td>\n",
       "      <td>3.12352</td>\n",
       "    </tr>\n",
       "    <tr>\n",
       "      <th>439</th>\n",
       "      <td>3.019</td>\n",
       "      <td>2.95240</td>\n",
       "    </tr>\n",
       "    <tr>\n",
       "      <th>249</th>\n",
       "      <td>2.785</td>\n",
       "      <td>2.72911</td>\n",
       "    </tr>\n",
       "    <tr>\n",
       "      <th>237</th>\n",
       "      <td>2.206</td>\n",
       "      <td>2.35203</td>\n",
       "    </tr>\n",
       "    <tr>\n",
       "      <th>298</th>\n",
       "      <td>2.654</td>\n",
       "      <td>2.45115</td>\n",
       "    </tr>\n",
       "    <tr>\n",
       "      <th>...</th>\n",
       "      <td>...</td>\n",
       "      <td>...</td>\n",
       "    </tr>\n",
       "    <tr>\n",
       "      <th>42</th>\n",
       "      <td>2.851</td>\n",
       "      <td>2.77571</td>\n",
       "    </tr>\n",
       "    <tr>\n",
       "      <th>413</th>\n",
       "      <td>2.260</td>\n",
       "      <td>2.68155</td>\n",
       "    </tr>\n",
       "    <tr>\n",
       "      <th>41</th>\n",
       "      <td>2.696</td>\n",
       "      <td>2.69810</td>\n",
       "    </tr>\n",
       "    <tr>\n",
       "      <th>560</th>\n",
       "      <td>2.370</td>\n",
       "      <td>2.58300</td>\n",
       "    </tr>\n",
       "    <tr>\n",
       "      <th>351</th>\n",
       "      <td>3.714</td>\n",
       "      <td>3.69393</td>\n",
       "    </tr>\n",
       "  </tbody>\n",
       "</table>\n",
       "<p>171 rows × 2 columns</p>\n",
       "</div>"
      ],
      "text/plain": [
       "     Actual Grade  Predicted Grade\n",
       "430         3.424          3.12352\n",
       "439         3.019          2.95240\n",
       "249         2.785          2.72911\n",
       "237         2.206          2.35203\n",
       "298         2.654          2.45115\n",
       "..            ...              ...\n",
       "42          2.851          2.77571\n",
       "413         2.260          2.68155\n",
       "41          2.696          2.69810\n",
       "560         2.370          2.58300\n",
       "351         3.714          3.69393\n",
       "\n",
       "[171 rows x 2 columns]"
      ]
     },
     "execution_count": 120,
     "metadata": {},
     "output_type": "execute_result"
    }
   ],
   "source": [
    "prediction = pd.DataFrame()\n",
    "prediction['Actual Grade']= y_test\n",
    "prediction['Predicted Grade'] = pred_test\n",
    "prediction"
   ]
  },
  {
   "cell_type": "code",
   "execution_count": null,
   "id": "25b918fa",
   "metadata": {},
   "outputs": [],
   "source": []
  }
 ],
 "metadata": {
  "kernelspec": {
   "display_name": "Python 3 (ipykernel)",
   "language": "python",
   "name": "python3"
  },
  "language_info": {
   "codemirror_mode": {
    "name": "ipython",
    "version": 3
   },
   "file_extension": ".py",
   "mimetype": "text/x-python",
   "name": "python",
   "nbconvert_exporter": "python",
   "pygments_lexer": "ipython3",
   "version": "3.9.16"
  }
 },
 "nbformat": 4,
 "nbformat_minor": 5
}
